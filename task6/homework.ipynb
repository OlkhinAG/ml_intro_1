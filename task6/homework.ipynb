{
 "cells": [
  {
   "cell_type": "code",
   "execution_count": 25,
   "metadata": {},
   "outputs": [],
   "source": [
    "import numpy as np\n",
    "import pandas as pd\n",
    "import seaborn as sns\n",
    "import matplotlib.pyplot as plt\n",
    "\n",
    "from sklearn.impute import SimpleImputer\n",
    "from sklearn.preprocessing import StandardScaler, MinMaxScaler, OrdinalEncoder, OneHotEncoder\n",
    "from sklearn.decomposition import PCA\n",
    "\n",
    "from sklearn.feature_selection import VarianceThreshold, SelectFromModel, RFECV, SequentialFeatureSelector\n",
    "\n",
    "from sklearn.ensemble import RandomForestClassifier, RandomForestRegressor\n",
    "from sklearn.linear_model import LogisticRegression\n",
    "\n",
    "from sklearn.model_selection import KFold, cross_val_score, train_test_split\n",
    "from sklearn.pipeline import Pipeline, make_pipeline\n",
    "from sklearn.metrics import accuracy_score\n",
    "from sklearn import set_config\n",
    "\n",
    "from sklearn.datasets import make_classification, load_wine, load_breast_cancer, load_diabetes, load_digits"
   ]
  },
  {
   "cell_type": "code",
   "execution_count": 26,
   "metadata": {},
   "outputs": [],
   "source": [
    "plt.style.use('seaborn-darkgrid')\n",
    "set_config(display='diagram')"
   ]
  },
  {
   "cell_type": "code",
   "execution_count": 3,
   "metadata": {},
   "outputs": [],
   "source": [
    "def plot_scatter(x, y, auto_scaled=True, title=None, clusters=None):\n",
    "    plt.figure(figsize=(4, 4))\n",
    "    plt.scatter(x, y, c=clusters, cmap='bwr')\n",
    "    \n",
    "    if not auto_scaled:\n",
    "        plt.axis('square')\n",
    "    \n",
    "    plt.grid(True)\n",
    "    plt.title(title)\n",
    "    \n",
    "    plt.show()\n",
    "    \n",
    "def return_X_y(data, target_column):\n",
    "    return data.drop(target_column, axis=1), data[target_column]"
   ]
  },
  {
   "cell_type": "code",
   "execution_count": 4,
   "metadata": {},
   "outputs": [],
   "source": [
    "wine_sklearn = load_wine(as_frame=True)\n",
    "wine_data, wine_labels = wine_sklearn['data'], wine_sklearn['target']"
   ]
  },
  {
   "cell_type": "markdown",
   "metadata": {},
   "source": [
    "# Homework"
   ]
  },
  {
   "cell_type": "markdown",
   "metadata": {},
   "source": [
    "## Exercise  1 - Scaling (2 points)"
   ]
  },
  {
   "cell_type": "markdown",
   "metadata": {},
   "source": [
    "Perform standardization for wine dataset (`wine_data`) using only basic python, numpy and pandas (without using `StandardScaler` and sklearn at all). Implementation of function (or class) that can get dataset as input and return standardized dataset as output is preferrable, but not necessary.\n",
    "\n",
    "Compare you results (output) with `StandardScaler`.\n",
    "\n",
    "**NOTE:**\n",
    "\n",
    "- 1 point for functional version, 2 points for implementing scaling as sklearn pipeline compartible class. \n",
    "- Maximum for the exercise is 2 points.\n"
   ]
  },
  {
   "cell_type": "markdown",
   "metadata": {},
   "source": [
    "### Simple version (1 point)"
   ]
  },
  {
   "cell_type": "code",
   "execution_count": 6,
   "metadata": {},
   "outputs": [],
   "source": [
    "# 1 point\n",
    "def scale(X):\n",
    "    # your code here"
   ]
  },
  {
   "cell_type": "code",
   "execution_count": 7,
   "metadata": {},
   "outputs": [],
   "source": [
    "assert np.allclose(np.array(scale(wine_data)), StandardScaler().fit_transform(wine_data))"
   ]
  },
  {
   "cell_type": "markdown",
   "metadata": {},
   "source": [
    "### Pipeline Version (2 points)"
   ]
  },
  {
   "cell_type": "code",
   "execution_count": 8,
   "metadata": {},
   "outputs": [],
   "source": [
    "# 2 points\n",
    "from sklearn.base import BaseEstimator, TransformerMixin\n",
    "class CustomScaler(BaseEstimator, TransformerMixin):\n",
    "    def __init__(self, copy=True, with_mean=True, with_std=True):\n",
    "        self.copy = copy\n",
    "        self.with_mean = with_mean\n",
    "        self.with_std = with_std\n",
    "\n",
    "    def fit(self, X, y=None):\n",
    "        \n",
    "        self.n_features = X.shape[1]\n",
    "        \n",
    "        if self.with_mean:\n",
    "            self.mean_ = np.mean(X, axis = 0)\n",
    "        else:\n",
    "            self.mean_ = np.zeros(self.n_features)\n",
    "        \n",
    "        if self.with_std:\n",
    "            self.std_ = np.std(X, axis = 0)\n",
    "        else:\n",
    "            self.std_ = np.ones(self.n_features)\n",
    "        \n",
    "        return self\n",
    "\n",
    "    def transform(self, X, y=None, copy=None):\n",
    "        return (X - self.mean_) / self.std_\n"
   ]
  },
  {
   "cell_type": "code",
   "execution_count": 11,
   "metadata": {},
   "outputs": [],
   "source": [
    "assert np.allclose(CustomScaler().fit_transform(wine_data), StandardScaler().fit_transform(wine_data))"
   ]
  },
  {
   "cell_type": "markdown",
   "metadata": {},
   "source": [
    "## Exercise  2 - Visualization (3 points)"
   ]
  },
  {
   "cell_type": "markdown",
   "metadata": {},
   "source": [
    "As noted earlier, standardization/normalization of data can be crucial for some distance-based ML methods.\n",
    "\n",
    "Let’s generate some toy example of unnormalized data and visualize the importance of this process once more:"
   ]
  },
  {
   "cell_type": "code",
   "execution_count": 12,
   "metadata": {},
   "outputs": [
    {
     "data": {
      "text/plain": [
       "array([[ -2.64502933,  -0.102641  ],\n",
       "       [ -1.08394296,  -0.2321832 ],\n",
       "       [-13.6894652 ,   1.98248284],\n",
       "       ...,\n",
       "       [ -3.60678784,   6.4878369 ],\n",
       "       [ -3.87353197,   4.82109657],\n",
       "       [-15.42759356,   6.06229084]])"
      ]
     },
     "execution_count": 12,
     "metadata": {},
     "output_type": "execute_result"
    }
   ],
   "source": [
    "feature_0 = np.random.randn(1000) * 10   \n",
    "feature_1 = np.concatenate([np.random.randn(500), np.random.randn(500) + 5])\n",
    "data = np.column_stack([feature_0, feature_1])\n",
    "data "
   ]
  },
  {
   "cell_type": "code",
   "execution_count": 13,
   "metadata": {},
   "outputs": [
    {
     "data": {
      "image/png": "[encoded data removed]",
      "text/plain": [
       "<Figure size 288x288 with 1 Axes>"
      ]
     },
     "metadata": {},
     "output_type": "display_data"
    }
   ],
   "source": [
    "plot_scatter(data[:, 0], data[:, 1], auto_scaled=True, title='Data (different axes units!)')"
   ]
  },
  {
   "cell_type": "markdown",
   "metadata": {},
   "source": [
    "**NOTE:** on the plot above axes are scaled differently and we can clearly see two potential *classes/clusters*. In fact `matplotlib` performed `autoscaling` (which is basically can be considered as `MinMaxScaling` of original data) just for better visualization purposes.\n",
    "\n",
    "Let's turn this feature off and visualize the original data on the plot with equally scaled axes:"
   ]
  },
  {
   "cell_type": "code",
   "execution_count": 14,
   "metadata": {},
   "outputs": [
    {
     "data": {
      "image/png": "[encoded data removed]",
      "text/plain": [
       "<Figure size 288x288 with 1 Axes>"
      ]
     },
     "metadata": {},
     "output_type": "display_data"
    }
   ],
   "source": [
    "plot_scatter(data[:, 0], data[:, 1], auto_scaled=False , title='Data (equal axes units!)')"
   ]
  },
  {
   "cell_type": "markdown",
   "metadata": {},
   "source": [
    "This picture is clearly less interpretable, but much closer to \"how distance-based algorithm see the original data\": separability of data is hardly noticable only because the variation (std) of x-feature is much bigger in absolute numbers."
   ]
  },
  {
   "cell_type": "markdown",
   "metadata": {},
   "source": [
    "Perform `StandardScaling` and `MinMaxScaling` of original data; visualize results for each case (**use `plot_scatter` with `auto_scaled=False`**):"
   ]
  },
  {
   "cell_type": "markdown",
   "metadata": {},
   "source": [
    "### MinMaxScaling (0.5 point)"
   ]
  },
  {
   "cell_type": "code",
   "execution_count": 15,
   "metadata": {},
   "outputs": [
    {
     "data": {
      "image/png": "[encoded data removed]",
      "text/plain": [
       "<Figure size 288x288 with 1 Axes>"
      ]
     },
     "metadata": {},
     "output_type": "display_data"
    }
   ],
   "source": [
    "scaled = MinMaxScaler().fit_transform(data)\n",
    "plot_scatter(scaled[:, 0], scaled[:, 1], auto_scaled=False )"
   ]
  },
  {
   "cell_type": "markdown",
   "metadata": {},
   "source": [
    "### StandardScaler (0.5 point)"
   ]
  },
  {
   "cell_type": "code",
   "execution_count": 16,
   "metadata": {},
   "outputs": [
    {
     "data": {
      "image/png": "[encoded data removed]",
      "text/plain": [
       "<Figure size 288x288 with 1 Axes>"
      ]
     },
     "metadata": {},
     "output_type": "display_data"
    }
   ],
   "source": [
    "scaled = StandardScaler().fit_transform(data)\n",
    "plot_scatter(scaled[:, 0], scaled[:, 1], auto_scaled=False )"
   ]
  },
  {
   "cell_type": "markdown",
   "metadata": {},
   "source": [
    "### (Bonus) K-means (2 points)"
   ]
  },
  {
   "cell_type": "markdown",
   "metadata": {},
   "source": [
    "Illustrate the impact of scaling on basic distance-based clustering algorithm [K-means](https://towardsdatascience.com/understanding-k-means-clustering-in-machine-learning-6a6e67336aa1) using `data` generated above.\n",
    "\n",
    "**NOTE:** basically, you don't need understanding K-means algorithm here, you just need to:\n",
    "\n",
    "1) run algorithm (with k=2, k - number of clusters/classes) on unscaled data    \n",
    "2) run algorithm (with k=2) on scaled data    \n",
    "3) plot results: highlight different clusters using different colors.\n",
    "\n",
    "You can use this [question](https://stats.stackexchange.com/questions/89809/is-it-important-to-scale-data-before-clustering/89813) as a hint, but I recommend you to plot results using `plot_scatter` with `equal_scaled=True`: it might help you to intuitively understand the reasons of such scaling impact.\n"
   ]
  },
  {
   "cell_type": "code",
   "execution_count": 18,
   "metadata": {},
   "outputs": [
    {
     "data": {
      "image/png": "[encoded data removed]",
      "text/plain": [
       "<Figure size 288x288 with 1 Axes>"
      ]
     },
     "metadata": {},
     "output_type": "display_data"
    },
    {
     "data": {
      "image/png": "[encoded data removed]",
      "text/plain": [
       "<Figure size 288x288 with 1 Axes>"
      ]
     },
     "metadata": {},
     "output_type": "display_data"
    }
   ],
   "source": [
    "from sklearn.cluster import KMeans\n",
    "km = KMeans(2)\n",
    "\n",
    "clusters = km.fit_predict(data)\n",
    "plot_scatter( data[:, 0], data[:, 1], auto_scaled=False , clusters=clusters)\n",
    "\n",
    "clusters = km.fit_predict(scaled)\n",
    "plot_scatter( scaled[:, 0], scaled[:, 1], auto_scaled=False , clusters=clusters)\n"
   ]
  },
  {
   "cell_type": "markdown",
   "metadata": {},
   "source": [
    "## Exercise  3 - Preprocessing Pipeline (2 points)"
   ]
  },
  {
   "cell_type": "code",
   "execution_count": 21,
   "metadata": {},
   "outputs": [],
   "source": [
    "wine_train, wine_val, wine_labels_train, wine_labels_val = train_test_split(wine_data, wine_labels, \n",
    "                                                                            test_size=0.3, random_state=42)"
   ]
  },
  {
   "cell_type": "markdown",
   "metadata": {},
   "source": [
    "Train model (for example, `LogisticRegression(solver='liblinear', penalty='l1')` on raw `wine_train` data; then train same model after data scaling; then add feature selection (and train model again on scaled data). For each experiment all required preprocessing steps (if any) should be wrapped into sklearn pipeline.\n",
    "\n",
    "Measure `accuracy` of all 3 approaches on `wine_val` dataset. Describe and explain results."
   ]
  },
  {
   "cell_type": "code",
   "execution_count": 22,
   "metadata": {},
   "outputs": [
    {
     "data": {
      "text/plain": [
       "alcohol                         0.0\n",
       "malic_acid                      0.0\n",
       "ash                             0.0\n",
       "alcalinity_of_ash               0.0\n",
       "magnesium                       0.0\n",
       "total_phenols                   0.0\n",
       "flavanoids                      0.0\n",
       "nonflavanoid_phenols            0.0\n",
       "proanthocyanins                 0.0\n",
       "color_intensity                 0.0\n",
       "hue                             0.0\n",
       "od280/od315_of_diluted_wines    0.0\n",
       "proline                         0.0\n",
       "dtype: float64"
      ]
     },
     "execution_count": 22,
     "metadata": {},
     "output_type": "execute_result"
    }
   ],
   "source": [
    "wine_train.isnull().mean()"
   ]
  },
  {
   "cell_type": "code",
   "execution_count": 32,
   "metadata": {},
   "outputs": [
    {
     "data": {
      "text/html": [
       "<style>#sk-1792e73e-ea8a-4477-8fd0-03126fd60ad0 {color: black;background-color: white;}#sk-1792e73e-ea8a-4477-8fd0-03126fd60ad0 pre{padding: 0;}#sk-1792e73e-ea8a-4477-8fd0-03126fd60ad0 div.sk-toggleable {background-color: white;}#sk-1792e73e-ea8a-4477-8fd0-03126fd60ad0 label.sk-toggleable__label {cursor: pointer;display: block;width: 100%;margin-bottom: 0;padding: 0.3em;box-sizing: border-box;text-align: center;}#sk-1792e73e-ea8a-4477-8fd0-03126fd60ad0 label.sk-toggleable__label-arrow:before {content: \"▸\";float: left;margin-right: 0.25em;color: #696969;}#sk-1792e73e-ea8a-4477-8fd0-03126fd60ad0 label.sk-toggleable__label-arrow:hover:before {color: black;}#sk-1792e73e-ea8a-4477-8fd0-03126fd60ad0 div.sk-estimator:hover label.sk-toggleable__label-arrow:before {color: black;}#sk-1792e73e-ea8a-4477-8fd0-03126fd60ad0 div.sk-toggleable__content {max-height: 0;max-width: 0;overflow: hidden;text-align: left;background-color: #f0f8ff;}#sk-1792e73e-ea8a-4477-8fd0-03126fd60ad0 div.sk-toggleable__content pre {margin: 0.2em;color: black;border-radius: 0.25em;background-color: #f0f8ff;}#sk-1792e73e-ea8a-4477-8fd0-03126fd60ad0 input.sk-toggleable__control:checked~div.sk-toggleable__content {max-height: 200px;max-width: 100%;overflow: auto;}#sk-1792e73e-ea8a-4477-8fd0-03126fd60ad0 input.sk-toggleable__control:checked~label.sk-toggleable__label-arrow:before {content: \"▾\";}#sk-1792e73e-ea8a-4477-8fd0-03126fd60ad0 div.sk-estimator input.sk-toggleable__control:checked~label.sk-toggleable__label {background-color: #d4ebff;}#sk-1792e73e-ea8a-4477-8fd0-03126fd60ad0 div.sk-label input.sk-toggleable__control:checked~label.sk-toggleable__label {background-color: #d4ebff;}#sk-1792e73e-ea8a-4477-8fd0-03126fd60ad0 input.sk-hidden--visually {border: 0;clip: rect(1px 1px 1px 1px);clip: rect(1px, 1px, 1px, 1px);height: 1px;margin: -1px;overflow: hidden;padding: 0;position: absolute;width: 1px;}#sk-1792e73e-ea8a-4477-8fd0-03126fd60ad0 div.sk-estimator {font-family: monospace;background-color: #f0f8ff;border: 1px dotted black;border-radius: 0.25em;box-sizing: border-box;margin-bottom: 0.5em;}#sk-1792e73e-ea8a-4477-8fd0-03126fd60ad0 div.sk-estimator:hover {background-color: #d4ebff;}#sk-1792e73e-ea8a-4477-8fd0-03126fd60ad0 div.sk-parallel-item::after {content: \"\";width: 100%;border-bottom: 1px solid gray;flex-grow: 1;}#sk-1792e73e-ea8a-4477-8fd0-03126fd60ad0 div.sk-label:hover label.sk-toggleable__label {background-color: #d4ebff;}#sk-1792e73e-ea8a-4477-8fd0-03126fd60ad0 div.sk-serial::before {content: \"\";position: absolute;border-left: 1px solid gray;box-sizing: border-box;top: 2em;bottom: 0;left: 50%;}#sk-1792e73e-ea8a-4477-8fd0-03126fd60ad0 div.sk-serial {display: flex;flex-direction: column;align-items: center;background-color: white;padding-right: 0.2em;padding-left: 0.2em;}#sk-1792e73e-ea8a-4477-8fd0-03126fd60ad0 div.sk-item {z-index: 1;}#sk-1792e73e-ea8a-4477-8fd0-03126fd60ad0 div.sk-parallel {display: flex;align-items: stretch;justify-content: center;background-color: white;}#sk-1792e73e-ea8a-4477-8fd0-03126fd60ad0 div.sk-parallel::before {content: \"\";position: absolute;border-left: 1px solid gray;box-sizing: border-box;top: 2em;bottom: 0;left: 50%;}#sk-1792e73e-ea8a-4477-8fd0-03126fd60ad0 div.sk-parallel-item {display: flex;flex-direction: column;position: relative;background-color: white;}#sk-1792e73e-ea8a-4477-8fd0-03126fd60ad0 div.sk-parallel-item:first-child::after {align-self: flex-end;width: 50%;}#sk-1792e73e-ea8a-4477-8fd0-03126fd60ad0 div.sk-parallel-item:last-child::after {align-self: flex-start;width: 50%;}#sk-1792e73e-ea8a-4477-8fd0-03126fd60ad0 div.sk-parallel-item:only-child::after {width: 0;}#sk-1792e73e-ea8a-4477-8fd0-03126fd60ad0 div.sk-dashed-wrapped {border: 1px dashed gray;margin: 0 0.4em 0.5em 0.4em;box-sizing: border-box;padding-bottom: 0.4em;background-color: white;position: relative;}#sk-1792e73e-ea8a-4477-8fd0-03126fd60ad0 div.sk-label label {font-family: monospace;font-weight: bold;background-color: white;display: inline-block;line-height: 1.2em;}#sk-1792e73e-ea8a-4477-8fd0-03126fd60ad0 div.sk-label-container {position: relative;z-index: 2;text-align: center;}#sk-1792e73e-ea8a-4477-8fd0-03126fd60ad0 div.sk-container {/* jupyter's `normalize.less` sets `[hidden] { display: none; }` but bootstrap.min.css set `[hidden] { display: none !important; }` so we also need the `!important` here to be able to override the default hidden behavior on the sphinx rendered scikit-learn.org. See: https://github.com/scikit-learn/scikit-learn/issues/21755 */display: inline-block !important;position: relative;}#sk-1792e73e-ea8a-4477-8fd0-03126fd60ad0 div.sk-text-repr-fallback {display: none;}</style><div id=\"sk-1792e73e-ea8a-4477-8fd0-03126fd60ad0\" class=\"sk-top-container\"><div class=\"sk-text-repr-fallback\"><pre>Pipeline(steps=[(&#x27;reg&#x27;, LogisticRegression(penalty=&#x27;l1&#x27;, solver=&#x27;liblinear&#x27;))])</pre><b>Please rerun this cell to show the HTML repr or trust the notebook.</b></div><div class=\"sk-container\" hidden><div class=\"sk-item sk-dashed-wrapped\"><div class=\"sk-label-container\"><div class=\"sk-label sk-toggleable\"><input class=\"sk-toggleable__control sk-hidden--visually\" id=\"9e43cec4-241e-480e-9e17-b3f0454fa247\" type=\"checkbox\" ><label for=\"9e43cec4-241e-480e-9e17-b3f0454fa247\" class=\"sk-toggleable__label sk-toggleable__label-arrow\">Pipeline</label><div class=\"sk-toggleable__content\"><pre>Pipeline(steps=[(&#x27;reg&#x27;, LogisticRegression(penalty=&#x27;l1&#x27;, solver=&#x27;liblinear&#x27;))])</pre></div></div></div><div class=\"sk-serial\"><div class=\"sk-item\"><div class=\"sk-estimator sk-toggleable\"><input class=\"sk-toggleable__control sk-hidden--visually\" id=\"03ab3991-9c07-4efc-9962-a4ade97b6650\" type=\"checkbox\" ><label for=\"03ab3991-9c07-4efc-9962-a4ade97b6650\" class=\"sk-toggleable__label sk-toggleable__label-arrow\">LogisticRegression</label><div class=\"sk-toggleable__content\"><pre>LogisticRegression(penalty=&#x27;l1&#x27;, solver=&#x27;liblinear&#x27;)</pre></div></div></div></div></div></div></div>"
      ],
      "text/plain": [
       "Pipeline(steps=[('reg', LogisticRegression(penalty='l1', solver='liblinear'))])"
      ]
     },
     "metadata": {},
     "output_type": "display_data"
    },
    {
     "name": "stdout",
     "output_type": "stream",
     "text": [
      "0.9814814814814815\n"
     ]
    },
    {
     "data": {
      "text/html": [
       "<style>#sk-802b8c15-3552-42cc-84e2-7f09b8e9255b {color: black;background-color: white;}#sk-802b8c15-3552-42cc-84e2-7f09b8e9255b pre{padding: 0;}#sk-802b8c15-3552-42cc-84e2-7f09b8e9255b div.sk-toggleable {background-color: white;}#sk-802b8c15-3552-42cc-84e2-7f09b8e9255b label.sk-toggleable__label {cursor: pointer;display: block;width: 100%;margin-bottom: 0;padding: 0.3em;box-sizing: border-box;text-align: center;}#sk-802b8c15-3552-42cc-84e2-7f09b8e9255b label.sk-toggleable__label-arrow:before {content: \"▸\";float: left;margin-right: 0.25em;color: #696969;}#sk-802b8c15-3552-42cc-84e2-7f09b8e9255b label.sk-toggleable__label-arrow:hover:before {color: black;}#sk-802b8c15-3552-42cc-84e2-7f09b8e9255b div.sk-estimator:hover label.sk-toggleable__label-arrow:before {color: black;}#sk-802b8c15-3552-42cc-84e2-7f09b8e9255b div.sk-toggleable__content {max-height: 0;max-width: 0;overflow: hidden;text-align: left;background-color: #f0f8ff;}#sk-802b8c15-3552-42cc-84e2-7f09b8e9255b div.sk-toggleable__content pre {margin: 0.2em;color: black;border-radius: 0.25em;background-color: #f0f8ff;}#sk-802b8c15-3552-42cc-84e2-7f09b8e9255b input.sk-toggleable__control:checked~div.sk-toggleable__content {max-height: 200px;max-width: 100%;overflow: auto;}#sk-802b8c15-3552-42cc-84e2-7f09b8e9255b input.sk-toggleable__control:checked~label.sk-toggleable__label-arrow:before {content: \"▾\";}#sk-802b8c15-3552-42cc-84e2-7f09b8e9255b div.sk-estimator input.sk-toggleable__control:checked~label.sk-toggleable__label {background-color: #d4ebff;}#sk-802b8c15-3552-42cc-84e2-7f09b8e9255b div.sk-label input.sk-toggleable__control:checked~label.sk-toggleable__label {background-color: #d4ebff;}#sk-802b8c15-3552-42cc-84e2-7f09b8e9255b input.sk-hidden--visually {border: 0;clip: rect(1px 1px 1px 1px);clip: rect(1px, 1px, 1px, 1px);height: 1px;margin: -1px;overflow: hidden;padding: 0;position: absolute;width: 1px;}#sk-802b8c15-3552-42cc-84e2-7f09b8e9255b div.sk-estimator {font-family: monospace;background-color: #f0f8ff;border: 1px dotted black;border-radius: 0.25em;box-sizing: border-box;margin-bottom: 0.5em;}#sk-802b8c15-3552-42cc-84e2-7f09b8e9255b div.sk-estimator:hover {background-color: #d4ebff;}#sk-802b8c15-3552-42cc-84e2-7f09b8e9255b div.sk-parallel-item::after {content: \"\";width: 100%;border-bottom: 1px solid gray;flex-grow: 1;}#sk-802b8c15-3552-42cc-84e2-7f09b8e9255b div.sk-label:hover label.sk-toggleable__label {background-color: #d4ebff;}#sk-802b8c15-3552-42cc-84e2-7f09b8e9255b div.sk-serial::before {content: \"\";position: absolute;border-left: 1px solid gray;box-sizing: border-box;top: 2em;bottom: 0;left: 50%;}#sk-802b8c15-3552-42cc-84e2-7f09b8e9255b div.sk-serial {display: flex;flex-direction: column;align-items: center;background-color: white;padding-right: 0.2em;padding-left: 0.2em;}#sk-802b8c15-3552-42cc-84e2-7f09b8e9255b div.sk-item {z-index: 1;}#sk-802b8c15-3552-42cc-84e2-7f09b8e9255b div.sk-parallel {display: flex;align-items: stretch;justify-content: center;background-color: white;}#sk-802b8c15-3552-42cc-84e2-7f09b8e9255b div.sk-parallel::before {content: \"\";position: absolute;border-left: 1px solid gray;box-sizing: border-box;top: 2em;bottom: 0;left: 50%;}#sk-802b8c15-3552-42cc-84e2-7f09b8e9255b div.sk-parallel-item {display: flex;flex-direction: column;position: relative;background-color: white;}#sk-802b8c15-3552-42cc-84e2-7f09b8e9255b div.sk-parallel-item:first-child::after {align-self: flex-end;width: 50%;}#sk-802b8c15-3552-42cc-84e2-7f09b8e9255b div.sk-parallel-item:last-child::after {align-self: flex-start;width: 50%;}#sk-802b8c15-3552-42cc-84e2-7f09b8e9255b div.sk-parallel-item:only-child::after {width: 0;}#sk-802b8c15-3552-42cc-84e2-7f09b8e9255b div.sk-dashed-wrapped {border: 1px dashed gray;margin: 0 0.4em 0.5em 0.4em;box-sizing: border-box;padding-bottom: 0.4em;background-color: white;position: relative;}#sk-802b8c15-3552-42cc-84e2-7f09b8e9255b div.sk-label label {font-family: monospace;font-weight: bold;background-color: white;display: inline-block;line-height: 1.2em;}#sk-802b8c15-3552-42cc-84e2-7f09b8e9255b div.sk-label-container {position: relative;z-index: 2;text-align: center;}#sk-802b8c15-3552-42cc-84e2-7f09b8e9255b div.sk-container {/* jupyter's `normalize.less` sets `[hidden] { display: none; }` but bootstrap.min.css set `[hidden] { display: none !important; }` so we also need the `!important` here to be able to override the default hidden behavior on the sphinx rendered scikit-learn.org. See: https://github.com/scikit-learn/scikit-learn/issues/21755 */display: inline-block !important;position: relative;}#sk-802b8c15-3552-42cc-84e2-7f09b8e9255b div.sk-text-repr-fallback {display: none;}</style><div id=\"sk-802b8c15-3552-42cc-84e2-7f09b8e9255b\" class=\"sk-top-container\"><div class=\"sk-text-repr-fallback\"><pre>Pipeline(steps=[(&#x27;sca&#x27;, StandardScaler()),\n",
       "                (&#x27;reg&#x27;, LogisticRegression(penalty=&#x27;l1&#x27;, solver=&#x27;liblinear&#x27;))])</pre><b>Please rerun this cell to show the HTML repr or trust the notebook.</b></div><div class=\"sk-container\" hidden><div class=\"sk-item sk-dashed-wrapped\"><div class=\"sk-label-container\"><div class=\"sk-label sk-toggleable\"><input class=\"sk-toggleable__control sk-hidden--visually\" id=\"5748a9ec-7e90-43bc-b085-840ff0955ed9\" type=\"checkbox\" ><label for=\"5748a9ec-7e90-43bc-b085-840ff0955ed9\" class=\"sk-toggleable__label sk-toggleable__label-arrow\">Pipeline</label><div class=\"sk-toggleable__content\"><pre>Pipeline(steps=[(&#x27;sca&#x27;, StandardScaler()),\n",
       "                (&#x27;reg&#x27;, LogisticRegression(penalty=&#x27;l1&#x27;, solver=&#x27;liblinear&#x27;))])</pre></div></div></div><div class=\"sk-serial\"><div class=\"sk-item\"><div class=\"sk-estimator sk-toggleable\"><input class=\"sk-toggleable__control sk-hidden--visually\" id=\"9fe239cd-eeaf-4e6e-ac16-a5a8580c81b7\" type=\"checkbox\" ><label for=\"9fe239cd-eeaf-4e6e-ac16-a5a8580c81b7\" class=\"sk-toggleable__label sk-toggleable__label-arrow\">StandardScaler</label><div class=\"sk-toggleable__content\"><pre>StandardScaler()</pre></div></div></div><div class=\"sk-item\"><div class=\"sk-estimator sk-toggleable\"><input class=\"sk-toggleable__control sk-hidden--visually\" id=\"0e126a94-6207-43d2-963b-29df427d1b70\" type=\"checkbox\" ><label for=\"0e126a94-6207-43d2-963b-29df427d1b70\" class=\"sk-toggleable__label sk-toggleable__label-arrow\">LogisticRegression</label><div class=\"sk-toggleable__content\"><pre>LogisticRegression(penalty=&#x27;l1&#x27;, solver=&#x27;liblinear&#x27;)</pre></div></div></div></div></div></div></div>"
      ],
      "text/plain": [
       "Pipeline(steps=[('sca', StandardScaler()),\n",
       "                ('reg', LogisticRegression(penalty='l1', solver='liblinear'))])"
      ]
     },
     "metadata": {},
     "output_type": "display_data"
    },
    {
     "name": "stdout",
     "output_type": "stream",
     "text": [
      "0.9814814814814815\n"
     ]
    },
    {
     "data": {
      "text/html": [
       "<style>#sk-d30dfc20-651a-4728-bfac-9cd3aa85c9e9 {color: black;background-color: white;}#sk-d30dfc20-651a-4728-bfac-9cd3aa85c9e9 pre{padding: 0;}#sk-d30dfc20-651a-4728-bfac-9cd3aa85c9e9 div.sk-toggleable {background-color: white;}#sk-d30dfc20-651a-4728-bfac-9cd3aa85c9e9 label.sk-toggleable__label {cursor: pointer;display: block;width: 100%;margin-bottom: 0;padding: 0.3em;box-sizing: border-box;text-align: center;}#sk-d30dfc20-651a-4728-bfac-9cd3aa85c9e9 label.sk-toggleable__label-arrow:before {content: \"▸\";float: left;margin-right: 0.25em;color: #696969;}#sk-d30dfc20-651a-4728-bfac-9cd3aa85c9e9 label.sk-toggleable__label-arrow:hover:before {color: black;}#sk-d30dfc20-651a-4728-bfac-9cd3aa85c9e9 div.sk-estimator:hover label.sk-toggleable__label-arrow:before {color: black;}#sk-d30dfc20-651a-4728-bfac-9cd3aa85c9e9 div.sk-toggleable__content {max-height: 0;max-width: 0;overflow: hidden;text-align: left;background-color: #f0f8ff;}#sk-d30dfc20-651a-4728-bfac-9cd3aa85c9e9 div.sk-toggleable__content pre {margin: 0.2em;color: black;border-radius: 0.25em;background-color: #f0f8ff;}#sk-d30dfc20-651a-4728-bfac-9cd3aa85c9e9 input.sk-toggleable__control:checked~div.sk-toggleable__content {max-height: 200px;max-width: 100%;overflow: auto;}#sk-d30dfc20-651a-4728-bfac-9cd3aa85c9e9 input.sk-toggleable__control:checked~label.sk-toggleable__label-arrow:before {content: \"▾\";}#sk-d30dfc20-651a-4728-bfac-9cd3aa85c9e9 div.sk-estimator input.sk-toggleable__control:checked~label.sk-toggleable__label {background-color: #d4ebff;}#sk-d30dfc20-651a-4728-bfac-9cd3aa85c9e9 div.sk-label input.sk-toggleable__control:checked~label.sk-toggleable__label {background-color: #d4ebff;}#sk-d30dfc20-651a-4728-bfac-9cd3aa85c9e9 input.sk-hidden--visually {border: 0;clip: rect(1px 1px 1px 1px);clip: rect(1px, 1px, 1px, 1px);height: 1px;margin: -1px;overflow: hidden;padding: 0;position: absolute;width: 1px;}#sk-d30dfc20-651a-4728-bfac-9cd3aa85c9e9 div.sk-estimator {font-family: monospace;background-color: #f0f8ff;border: 1px dotted black;border-radius: 0.25em;box-sizing: border-box;margin-bottom: 0.5em;}#sk-d30dfc20-651a-4728-bfac-9cd3aa85c9e9 div.sk-estimator:hover {background-color: #d4ebff;}#sk-d30dfc20-651a-4728-bfac-9cd3aa85c9e9 div.sk-parallel-item::after {content: \"\";width: 100%;border-bottom: 1px solid gray;flex-grow: 1;}#sk-d30dfc20-651a-4728-bfac-9cd3aa85c9e9 div.sk-label:hover label.sk-toggleable__label {background-color: #d4ebff;}#sk-d30dfc20-651a-4728-bfac-9cd3aa85c9e9 div.sk-serial::before {content: \"\";position: absolute;border-left: 1px solid gray;box-sizing: border-box;top: 2em;bottom: 0;left: 50%;}#sk-d30dfc20-651a-4728-bfac-9cd3aa85c9e9 div.sk-serial {display: flex;flex-direction: column;align-items: center;background-color: white;padding-right: 0.2em;padding-left: 0.2em;}#sk-d30dfc20-651a-4728-bfac-9cd3aa85c9e9 div.sk-item {z-index: 1;}#sk-d30dfc20-651a-4728-bfac-9cd3aa85c9e9 div.sk-parallel {display: flex;align-items: stretch;justify-content: center;background-color: white;}#sk-d30dfc20-651a-4728-bfac-9cd3aa85c9e9 div.sk-parallel::before {content: \"\";position: absolute;border-left: 1px solid gray;box-sizing: border-box;top: 2em;bottom: 0;left: 50%;}#sk-d30dfc20-651a-4728-bfac-9cd3aa85c9e9 div.sk-parallel-item {display: flex;flex-direction: column;position: relative;background-color: white;}#sk-d30dfc20-651a-4728-bfac-9cd3aa85c9e9 div.sk-parallel-item:first-child::after {align-self: flex-end;width: 50%;}#sk-d30dfc20-651a-4728-bfac-9cd3aa85c9e9 div.sk-parallel-item:last-child::after {align-self: flex-start;width: 50%;}#sk-d30dfc20-651a-4728-bfac-9cd3aa85c9e9 div.sk-parallel-item:only-child::after {width: 0;}#sk-d30dfc20-651a-4728-bfac-9cd3aa85c9e9 div.sk-dashed-wrapped {border: 1px dashed gray;margin: 0 0.4em 0.5em 0.4em;box-sizing: border-box;padding-bottom: 0.4em;background-color: white;position: relative;}#sk-d30dfc20-651a-4728-bfac-9cd3aa85c9e9 div.sk-label label {font-family: monospace;font-weight: bold;background-color: white;display: inline-block;line-height: 1.2em;}#sk-d30dfc20-651a-4728-bfac-9cd3aa85c9e9 div.sk-label-container {position: relative;z-index: 2;text-align: center;}#sk-d30dfc20-651a-4728-bfac-9cd3aa85c9e9 div.sk-container {/* jupyter's `normalize.less` sets `[hidden] { display: none; }` but bootstrap.min.css set `[hidden] { display: none !important; }` so we also need the `!important` here to be able to override the default hidden behavior on the sphinx rendered scikit-learn.org. See: https://github.com/scikit-learn/scikit-learn/issues/21755 */display: inline-block !important;position: relative;}#sk-d30dfc20-651a-4728-bfac-9cd3aa85c9e9 div.sk-text-repr-fallback {display: none;}</style><div id=\"sk-d30dfc20-651a-4728-bfac-9cd3aa85c9e9\" class=\"sk-top-container\"><div class=\"sk-text-repr-fallback\"><pre>Pipeline(steps=[(&#x27;sca&#x27;, StandardScaler()),\n",
       "                (&#x27;sel&#x27;, VarianceThreshold(threshold=1)),\n",
       "                (&#x27;reg&#x27;, LogisticRegression(penalty=&#x27;l1&#x27;, solver=&#x27;liblinear&#x27;))])</pre><b>Please rerun this cell to show the HTML repr or trust the notebook.</b></div><div class=\"sk-container\" hidden><div class=\"sk-item sk-dashed-wrapped\"><div class=\"sk-label-container\"><div class=\"sk-label sk-toggleable\"><input class=\"sk-toggleable__control sk-hidden--visually\" id=\"e083fa0f-838c-41d3-a80f-77f6e7c94059\" type=\"checkbox\" ><label for=\"e083fa0f-838c-41d3-a80f-77f6e7c94059\" class=\"sk-toggleable__label sk-toggleable__label-arrow\">Pipeline</label><div class=\"sk-toggleable__content\"><pre>Pipeline(steps=[(&#x27;sca&#x27;, StandardScaler()),\n",
       "                (&#x27;sel&#x27;, VarianceThreshold(threshold=1)),\n",
       "                (&#x27;reg&#x27;, LogisticRegression(penalty=&#x27;l1&#x27;, solver=&#x27;liblinear&#x27;))])</pre></div></div></div><div class=\"sk-serial\"><div class=\"sk-item\"><div class=\"sk-estimator sk-toggleable\"><input class=\"sk-toggleable__control sk-hidden--visually\" id=\"58011edb-d71e-4c67-8a75-e8a17628dbdd\" type=\"checkbox\" ><label for=\"58011edb-d71e-4c67-8a75-e8a17628dbdd\" class=\"sk-toggleable__label sk-toggleable__label-arrow\">StandardScaler</label><div class=\"sk-toggleable__content\"><pre>StandardScaler()</pre></div></div></div><div class=\"sk-item\"><div class=\"sk-estimator sk-toggleable\"><input class=\"sk-toggleable__control sk-hidden--visually\" id=\"765c3392-02a6-4b84-98a8-0deb025fa815\" type=\"checkbox\" ><label for=\"765c3392-02a6-4b84-98a8-0deb025fa815\" class=\"sk-toggleable__label sk-toggleable__label-arrow\">VarianceThreshold</label><div class=\"sk-toggleable__content\"><pre>VarianceThreshold(threshold=1)</pre></div></div></div><div class=\"sk-item\"><div class=\"sk-estimator sk-toggleable\"><input class=\"sk-toggleable__control sk-hidden--visually\" id=\"43ab60ba-566a-406f-9b85-f87fa5603023\" type=\"checkbox\" ><label for=\"43ab60ba-566a-406f-9b85-f87fa5603023\" class=\"sk-toggleable__label sk-toggleable__label-arrow\">LogisticRegression</label><div class=\"sk-toggleable__content\"><pre>LogisticRegression(penalty=&#x27;l1&#x27;, solver=&#x27;liblinear&#x27;)</pre></div></div></div></div></div></div></div>"
      ],
      "text/plain": [
       "Pipeline(steps=[('sca', StandardScaler()),\n",
       "                ('sel', VarianceThreshold(threshold=1)),\n",
       "                ('reg', LogisticRegression(penalty='l1', solver='liblinear'))])"
      ]
     },
     "metadata": {},
     "output_type": "display_data"
    },
    {
     "name": "stdout",
     "output_type": "stream",
     "text": [
      "0.9444444444444444\n"
     ]
    }
   ],
   "source": [
    "regressor = LogisticRegression(solver='liblinear', penalty='l1')\n",
    "\n",
    "model1 = Pipeline([       \n",
    "        ('reg', regressor)\n",
    "    ])\n",
    "\n",
    "model2 = Pipeline([\n",
    "        ('sca', StandardScaler()),       \n",
    "        ('reg', regressor)\n",
    "    ])\n",
    "\n",
    "model3 = Pipeline([\n",
    "        ('sca', StandardScaler()),  \n",
    "        ('sel', VarianceThreshold(1)),\n",
    "        ('reg', regressor)\n",
    "    ])\n",
    "\n",
    "for model in [model1, model2, model3]:\n",
    "    display(model)\n",
    "    model.fit(wine_train, wine_labels_train)\n",
    "    score = model.score(wine_val, wine_labels_val)\n",
    "    print(score)\n",
    "\n"
   ]
  },
  {
   "cell_type": "markdown",
   "metadata": {},
   "source": [
    "Неотличимый результат при масштабировании данных - помогла регуляризация.\n",
    "Однако при удалении части фич результат ухудшился - лишних фич тут нет даже для линейной модели."
   ]
  },
  {
   "cell_type": "markdown",
   "metadata": {},
   "source": [
    "## Exercise 4 - manual PCA (5 points)\n",
    "The task is to solve PCA as an optimization problem, without explicitly doing eigen value decomposition.\n",
    "In the most general setting PCA is minimization of reconstruction error of a projection of given rank $q$\n",
    "\n",
    "$$\\min_{\\mu, \\lambda_1,\\ldots, \\lambda_n, \\mathbf{V}_q} \\sum_{i=1}^n ||x_i - \\mu - \\mathbf{V}_q \\lambda_i||^2$$\n",
    "\n",
    "With a number of steps that can be found here https://stats.stackexchange.com/a/10260 this task transforms to\n",
    " $$\\max_{u_i} \\sum_{i=1}^q u_i^T \\mathbf{S} u_i$$\n",
    " where $\\mathbf{S}$ is the sample covariance matrix (after standartization) and $u_1, \\ldots, u_q$ are the $q$ are orthonormal columns in $\\mathbf{V}_q$.\n",
    " Let us solve this optimization problem with `scipy.optimize` library.\n",
    " \n",
    " Additional 2 point are given for visualization of the results."
   ]
  },
  {
   "cell_type": "markdown",
   "metadata": {},
   "source": [
    "### PCA (3 points)"
   ]
  },
  {
   "cell_type": "code",
   "execution_count": 33,
   "metadata": {},
   "outputs": [],
   "source": [
    "wine_data, wine_labels = wine_sklearn['data'], wine_sklearn['target']"
   ]
  },
  {
   "cell_type": "markdown",
   "metadata": {},
   "source": [
    "Find a covariance matrix of standartized data and assing it to S."
   ]
  },
  {
   "cell_type": "code",
   "execution_count": 47,
   "metadata": {},
   "outputs": [],
   "source": [
    "data = StandardScaler().fit_transform(wine_data)\n",
    "\n",
    "S = np.cov(data.T)"
   ]
  },
  {
   "cell_type": "markdown",
   "metadata": {},
   "source": [
    "If your code is correct, the following assert should be Ok."
   ]
  },
  {
   "cell_type": "code",
   "execution_count": 48,
   "metadata": {},
   "outputs": [],
   "source": [
    "assert np.allclose(np.linalg.norm(S), 5.787241159764733)"
   ]
  },
  {
   "cell_type": "code",
   "execution_count": 91,
   "metadata": {},
   "outputs": [
    {
     "name": "stdout",
     "output_type": "stream",
     "text": [
      "4.732437060494331\n",
      "[ 0.14432113 -0.24518893 -0.00205429 -0.23931912  0.1419932   0.39465902\n",
      "  0.4229367  -0.29853865  0.3134292  -0.08861714  0.29671221  0.37616631\n",
      "  0.28675299]\n"
     ]
    }
   ],
   "source": [
    "from scipy.optimize import minimize\n",
    "\n",
    "def objective(x):\n",
    "    return -x.T@S@x\n",
    "\n",
    "def norm_constraint(x):\n",
    "    return 1 - np.linalg.norm(x)\n",
    "\n",
    "con1 = {'type': 'eq', 'fun': norm_constraint}\n",
    "\n",
    "x0 = np.zeros(S.shape[0])\n",
    "x0[0] = 1\n",
    "\n",
    "      \n",
    "sol = minimize(objective, \n",
    "               x0, \n",
    "               constraints = [con1]\n",
    "              )\n",
    "x0 = sol.x\n",
    "print(x0@S@x0)\n",
    "print(x0)"
   ]
  },
  {
   "cell_type": "markdown",
   "metadata": {},
   "source": [
    "Hurray! We have first vector! Let's do another one."
   ]
  },
  {
   "cell_type": "code",
   "execution_count": 98,
   "metadata": {},
   "outputs": [
    {
     "name": "stdout",
     "output_type": "stream",
     "text": [
      "2.511080930973957\n"
     ]
    }
   ],
   "source": [
    "def orthogonality_constraint(x):\n",
    "    return np.dot(x, x0)\n",
    "\n",
    "con2 = {'type': 'eq', 'fun': orthogonality_constraint}\n",
    "\n",
    "x1 = np.zeros(S.shape[0])\n",
    "x1[0] = -x0[1]\n",
    "x1[1] = x0[0]\n",
    "\n",
    "\n",
    "\n",
    "sol = minimize(objective, \n",
    "               x1, \n",
    "               constraints = [con1, con2]\n",
    "              )\n",
    "\n",
    "x1 = sol.x\n",
    "\n",
    "\n",
    "print(x1@S@x1)"
   ]
  },
  {
   "cell_type": "markdown",
   "metadata": {},
   "source": [
    "If your solution is correct, the following asserts should be Ok."
   ]
  },
  {
   "cell_type": "code",
   "execution_count": 99,
   "metadata": {},
   "outputs": [],
   "source": [
    "assert np.allclose(x0@S@x0, 4.732436977583595)\n",
    "assert np.allclose(x1@S@x1, 2.5110809296451233)"
   ]
  },
  {
   "cell_type": "markdown",
   "metadata": {},
   "source": [
    "### Visualization (2 points)"
   ]
  },
  {
   "cell_type": "markdown",
   "metadata": {},
   "source": [
    "Visualize the points after applying custom dimension reduction with 2 components."
   ]
  },
  {
   "cell_type": "code",
   "execution_count": 100,
   "metadata": {},
   "outputs": [
    {
     "data": {
      "image/png": "[encoded data removed]",
      "text/plain": [
       "<Figure size 288x288 with 1 Axes>"
      ]
     },
     "metadata": {},
     "output_type": "display_data"
    }
   ],
   "source": [
    "x = data.dot(x0)\n",
    "y = data.dot(x1)\n",
    "plot_scatter(x,y)"
   ]
  },
  {
   "cell_type": "markdown",
   "metadata": {},
   "source": [
    "## Exercise 5 - Boruta (3 points)\n",
    "\n",
    "Let us classify handwritten digits 0, 1 and 2. \n",
    "To make task not so easy the images are binarized (no shadows of gray present) as it happens with xerocopied documents.\n",
    "\n",
    "Let us also find out to which parts of an image there's no need to look in order to clasify three digits of interest."
   ]
  },
  {
   "cell_type": "code",
   "execution_count": 101,
   "metadata": {},
   "outputs": [],
   "source": [
    "X, y = load_digits(n_class=3, return_X_y=True, as_frame=True)\n",
    "X = (X>10).astype(int)"
   ]
  },
  {
   "cell_type": "code",
   "execution_count": 102,
   "metadata": {},
   "outputs": [
    {
     "data": {
      "image/png": "[encoded data removed]",
      "text/plain": [
       "<Figure size 720x288 with 3 Axes>"
      ]
     },
     "metadata": {},
     "output_type": "display_data"
    }
   ],
   "source": [
    "f, ax = plt.subplots(1,3,figsize=(10,4))\n",
    "for i in range(3):\n",
    "    ax[i].imshow(X.iloc[i].values.reshape(8,8))\n",
    "    ax[i].set_title(f\"This is digit {y[i]}.\")\n",
    "plt.suptitle(\"First three images.\")\n",
    "plt.show()"
   ]
  },
  {
   "cell_type": "markdown",
   "metadata": {},
   "source": [
    "Split data into train and test, let test size be 30% of the dataset and fix random state to 42:"
   ]
  },
  {
   "cell_type": "code",
   "execution_count": 103,
   "metadata": {},
   "outputs": [],
   "source": [
    "X_train, X_val, y_train, y_val = train_test_split(X, y, test_size=0.3, random_state=42)"
   ]
  },
  {
   "cell_type": "code",
   "execution_count": 104,
   "metadata": {},
   "outputs": [],
   "source": [
    "assert y_val.shape[0] == 162\n",
    "assert y_val.sum() == 169"
   ]
  },
  {
   "cell_type": "markdown",
   "metadata": {},
   "source": [
    "Fit a RandomForestClassifier with max_depth=13 and evaluate it's performance:"
   ]
  },
  {
   "cell_type": "code",
   "execution_count": 105,
   "metadata": {},
   "outputs": [
    {
     "name": "stdout",
     "output_type": "stream",
     "text": [
      "0.9876543209876543\n"
     ]
    }
   ],
   "source": [
    "clf = RandomForestClassifier(max_depth=13)\n",
    "\n",
    "clf.fit(X_train,y_train)\n",
    "\n",
    "acc = clf.score(X_val, y_val)\n",
    "print(acc)"
   ]
  },
  {
   "cell_type": "code",
   "execution_count": 106,
   "metadata": {},
   "outputs": [],
   "source": [
    "assert acc > 0.98"
   ]
  },
  {
   "cell_type": "markdown",
   "metadata": {},
   "source": [
    "Now we will use Boruta to find redundand pixels. If the package is not installed in your system, uncomment and run the following cell."
   ]
  },
  {
   "cell_type": "code",
   "execution_count": 107,
   "metadata": {},
   "outputs": [
    {
     "name": "stdout",
     "output_type": "stream",
     "text": [
      "Collecting boruta\n",
      "  Downloading Boruta-0.3-py3-none-any.whl (56 kB)\n",
      "     ---------------------------------------- 56.6/56.6 KB 1.5 MB/s eta 0:00:00\n",
      "Requirement already satisfied: scipy>=0.17.0 in d:\\soft\\python\\lib\\site-packages (from boruta) (1.8.0)\n",
      "Requirement already satisfied: numpy>=1.10.4 in d:\\soft\\python\\lib\\site-packages (from boruta) (1.22.2)\n",
      "Requirement already satisfied: scikit-learn>=0.17.1 in d:\\soft\\python\\lib\\site-packages (from boruta) (1.0.2)\n",
      "Requirement already satisfied: threadpoolctl>=2.0.0 in d:\\soft\\python\\lib\\site-packages (from scikit-learn>=0.17.1->boruta) (3.1.0)\n",
      "Requirement already satisfied: joblib>=0.11 in d:\\soft\\python\\lib\\site-packages (from scikit-learn>=0.17.1->boruta) (1.0.1)\n",
      "Installing collected packages: boruta\n",
      "Successfully installed boruta-0.3\n"
     ]
    },
    {
     "name": "stderr",
     "output_type": "stream",
     "text": [
      "WARNING: You are using pip version 22.0.3; however, version 22.0.4 is available.\n",
      "You should consider upgrading via the 'D:\\soft\\Python\\python.exe -m pip install --upgrade pip' command.\n"
     ]
    }
   ],
   "source": [
    "! pip install boruta"
   ]
  },
  {
   "cell_type": "code",
   "execution_count": 112,
   "metadata": {},
   "outputs": [
    {
     "data": {
      "text/html": [
       "<style>#sk-390b1670-fdeb-44d1-a24b-196ba4b3c844 {color: black;background-color: white;}#sk-390b1670-fdeb-44d1-a24b-196ba4b3c844 pre{padding: 0;}#sk-390b1670-fdeb-44d1-a24b-196ba4b3c844 div.sk-toggleable {background-color: white;}#sk-390b1670-fdeb-44d1-a24b-196ba4b3c844 label.sk-toggleable__label {cursor: pointer;display: block;width: 100%;margin-bottom: 0;padding: 0.3em;box-sizing: border-box;text-align: center;}#sk-390b1670-fdeb-44d1-a24b-196ba4b3c844 label.sk-toggleable__label-arrow:before {content: \"▸\";float: left;margin-right: 0.25em;color: #696969;}#sk-390b1670-fdeb-44d1-a24b-196ba4b3c844 label.sk-toggleable__label-arrow:hover:before {color: black;}#sk-390b1670-fdeb-44d1-a24b-196ba4b3c844 div.sk-estimator:hover label.sk-toggleable__label-arrow:before {color: black;}#sk-390b1670-fdeb-44d1-a24b-196ba4b3c844 div.sk-toggleable__content {max-height: 0;max-width: 0;overflow: hidden;text-align: left;background-color: #f0f8ff;}#sk-390b1670-fdeb-44d1-a24b-196ba4b3c844 div.sk-toggleable__content pre {margin: 0.2em;color: black;border-radius: 0.25em;background-color: #f0f8ff;}#sk-390b1670-fdeb-44d1-a24b-196ba4b3c844 input.sk-toggleable__control:checked~div.sk-toggleable__content {max-height: 200px;max-width: 100%;overflow: auto;}#sk-390b1670-fdeb-44d1-a24b-196ba4b3c844 input.sk-toggleable__control:checked~label.sk-toggleable__label-arrow:before {content: \"▾\";}#sk-390b1670-fdeb-44d1-a24b-196ba4b3c844 div.sk-estimator input.sk-toggleable__control:checked~label.sk-toggleable__label {background-color: #d4ebff;}#sk-390b1670-fdeb-44d1-a24b-196ba4b3c844 div.sk-label input.sk-toggleable__control:checked~label.sk-toggleable__label {background-color: #d4ebff;}#sk-390b1670-fdeb-44d1-a24b-196ba4b3c844 input.sk-hidden--visually {border: 0;clip: rect(1px 1px 1px 1px);clip: rect(1px, 1px, 1px, 1px);height: 1px;margin: -1px;overflow: hidden;padding: 0;position: absolute;width: 1px;}#sk-390b1670-fdeb-44d1-a24b-196ba4b3c844 div.sk-estimator {font-family: monospace;background-color: #f0f8ff;border: 1px dotted black;border-radius: 0.25em;box-sizing: border-box;margin-bottom: 0.5em;}#sk-390b1670-fdeb-44d1-a24b-196ba4b3c844 div.sk-estimator:hover {background-color: #d4ebff;}#sk-390b1670-fdeb-44d1-a24b-196ba4b3c844 div.sk-parallel-item::after {content: \"\";width: 100%;border-bottom: 1px solid gray;flex-grow: 1;}#sk-390b1670-fdeb-44d1-a24b-196ba4b3c844 div.sk-label:hover label.sk-toggleable__label {background-color: #d4ebff;}#sk-390b1670-fdeb-44d1-a24b-196ba4b3c844 div.sk-serial::before {content: \"\";position: absolute;border-left: 1px solid gray;box-sizing: border-box;top: 2em;bottom: 0;left: 50%;}#sk-390b1670-fdeb-44d1-a24b-196ba4b3c844 div.sk-serial {display: flex;flex-direction: column;align-items: center;background-color: white;padding-right: 0.2em;padding-left: 0.2em;}#sk-390b1670-fdeb-44d1-a24b-196ba4b3c844 div.sk-item {z-index: 1;}#sk-390b1670-fdeb-44d1-a24b-196ba4b3c844 div.sk-parallel {display: flex;align-items: stretch;justify-content: center;background-color: white;}#sk-390b1670-fdeb-44d1-a24b-196ba4b3c844 div.sk-parallel::before {content: \"\";position: absolute;border-left: 1px solid gray;box-sizing: border-box;top: 2em;bottom: 0;left: 50%;}#sk-390b1670-fdeb-44d1-a24b-196ba4b3c844 div.sk-parallel-item {display: flex;flex-direction: column;position: relative;background-color: white;}#sk-390b1670-fdeb-44d1-a24b-196ba4b3c844 div.sk-parallel-item:first-child::after {align-self: flex-end;width: 50%;}#sk-390b1670-fdeb-44d1-a24b-196ba4b3c844 div.sk-parallel-item:last-child::after {align-self: flex-start;width: 50%;}#sk-390b1670-fdeb-44d1-a24b-196ba4b3c844 div.sk-parallel-item:only-child::after {width: 0;}#sk-390b1670-fdeb-44d1-a24b-196ba4b3c844 div.sk-dashed-wrapped {border: 1px dashed gray;margin: 0 0.4em 0.5em 0.4em;box-sizing: border-box;padding-bottom: 0.4em;background-color: white;position: relative;}#sk-390b1670-fdeb-44d1-a24b-196ba4b3c844 div.sk-label label {font-family: monospace;font-weight: bold;background-color: white;display: inline-block;line-height: 1.2em;}#sk-390b1670-fdeb-44d1-a24b-196ba4b3c844 div.sk-label-container {position: relative;z-index: 2;text-align: center;}#sk-390b1670-fdeb-44d1-a24b-196ba4b3c844 div.sk-container {/* jupyter's `normalize.less` sets `[hidden] { display: none; }` but bootstrap.min.css set `[hidden] { display: none !important; }` so we also need the `!important` here to be able to override the default hidden behavior on the sphinx rendered scikit-learn.org. See: https://github.com/scikit-learn/scikit-learn/issues/21755 */display: inline-block !important;position: relative;}#sk-390b1670-fdeb-44d1-a24b-196ba4b3c844 div.sk-text-repr-fallback {display: none;}</style><div id=\"sk-390b1670-fdeb-44d1-a24b-196ba4b3c844\" class=\"sk-top-container\"><div class=\"sk-text-repr-fallback\"><pre>BorutaPy(estimator=RandomForestClassifier(max_depth=13, n_estimators=62,\n",
       "                                          random_state=RandomState(MT19937) at 0x24698BD4340),\n",
       "         n_estimators=&#x27;auto&#x27;,\n",
       "         random_state=RandomState(MT19937) at 0x24698BD4340)</pre><b>Please rerun this cell to show the HTML repr or trust the notebook.</b></div><div class=\"sk-container\" hidden><div class=\"sk-item sk-dashed-wrapped\"><div class=\"sk-label-container\"><div class=\"sk-label sk-toggleable\"><input class=\"sk-toggleable__control sk-hidden--visually\" id=\"d9df0f25-5989-47b8-9517-6781864cab2f\" type=\"checkbox\" ><label for=\"d9df0f25-5989-47b8-9517-6781864cab2f\" class=\"sk-toggleable__label sk-toggleable__label-arrow\">BorutaPy</label><div class=\"sk-toggleable__content\"><pre>BorutaPy(estimator=RandomForestClassifier(max_depth=13, n_estimators=62,\n",
       "                                          random_state=RandomState(MT19937) at 0x24698BD4340),\n",
       "         n_estimators=&#x27;auto&#x27;,\n",
       "         random_state=RandomState(MT19937) at 0x24698BD4340)</pre></div></div></div><div class=\"sk-parallel\"><div class=\"sk-parallel-item\"><div class=\"sk-item\"><div class=\"sk-serial\"><div class=\"sk-item\"><div class=\"sk-estimator sk-toggleable\"><input class=\"sk-toggleable__control sk-hidden--visually\" id=\"2ba1dbfd-08ce-42c9-ae3d-626a40056607\" type=\"checkbox\" ><label for=\"2ba1dbfd-08ce-42c9-ae3d-626a40056607\" class=\"sk-toggleable__label sk-toggleable__label-arrow\">RandomForestClassifier</label><div class=\"sk-toggleable__content\"><pre>RandomForestClassifier(max_depth=13, n_estimators=62,\n",
       "                       random_state=RandomState(MT19937) at 0x24698BD4340)</pre></div></div></div></div></div></div></div></div></div></div>"
      ],
      "text/plain": [
       "BorutaPy(estimator=RandomForestClassifier(max_depth=13, n_estimators=62,\n",
       "                                          random_state=RandomState(MT19937) at 0x24698BD4340),\n",
       "         n_estimators='auto',\n",
       "         random_state=RandomState(MT19937) at 0x24698BD4340)"
      ]
     },
     "execution_count": 112,
     "metadata": {},
     "output_type": "execute_result"
    }
   ],
   "source": [
    "from boruta import BorutaPy\n",
    "\n",
    "feat_selector = BorutaPy(RandomForestClassifier(max_depth=13), \n",
    "                         n_estimators='auto', \n",
    "                         verbose=0, \n",
    "                         max_iter=100,\n",
    "                         random_state=42)\n",
    "\n",
    "feat_selector.fit(X_train.to_numpy(), y_train.to_numpy())"
   ]
  },
  {
   "cell_type": "markdown",
   "metadata": {},
   "source": [
    "Let us print redundant pixels as a mask. Does the result looks similar to mine (or to Among us chracters)? "
   ]
  },
  {
   "cell_type": "code",
   "execution_count": 113,
   "metadata": {},
   "outputs": [
    {
     "data": {
      "image/png": "[encoded data removed]",
      "text/plain": [
       "<Figure size 432x288 with 1 Axes>"
      ]
     },
     "metadata": {},
     "output_type": "display_data"
    }
   ],
   "source": [
    "mask = np.array(feat_selector.support_).reshape(8,8)\n",
    "plt.imshow(mask);"
   ]
  },
  {
   "cell_type": "markdown",
   "metadata": {},
   "source": [
    "At the end let us redo  classification but only with selected features"
   ]
  },
  {
   "cell_type": "code",
   "execution_count": 118,
   "metadata": {},
   "outputs": [
    {
     "name": "stdout",
     "output_type": "stream",
     "text": [
      "(375, 64)\n",
      "(375, 31)\n",
      "0.9938271604938271\n"
     ]
    }
   ],
   "source": [
    "clf = RandomForestClassifier(max_depth=13)\n",
    "\n",
    "x_filtered = X_train.loc[:,feat_selector.support_]\n",
    "print(X_train.shape)\n",
    "print(x_filtered.shape)\n",
    "\n",
    "acc = clf.fit(x_filtered,y_train)\n",
    "\n",
    "x_filtered = X_val.loc[:,feat_selector.support_]\n",
    "acc = clf.score(x_filtered, y_val)\n",
    "print(acc)"
   ]
  },
  {
   "cell_type": "code",
   "execution_count": 119,
   "metadata": {},
   "outputs": [],
   "source": [
    "assert acc > 0.99"
   ]
  },
  {
   "cell_type": "markdown",
   "metadata": {},
   "source": [
    "# Materials & References"
   ]
  },
  {
   "cell_type": "markdown",
   "metadata": {},
   "source": [
    "1. General article about feature engineering and selection (main reference):\n",
    "https://github.com/Yorko/mlcourse.ai/blob/master/jupyter_english/topic06_features_regression/topic6_feature_engineering_feature_selection.ipynb\n",
    "\n",
    "2. Feature engineering/preprocessing, using scikit-learn API (great code examples, but really brief explanation):    \n",
    "https://scikit-learn.org/stable/modules/preprocessing\n",
    "\n",
    "3. Feature scaling/normalization:     \n",
    "https://towardsdatascience.com/all-about-feature-scaling-bcc0ad75cb35\n",
    "\n",
    "4. Log Transform/power transform:    \n",
    "https://medium.com/@kyawsawhtoon/log-transformation-purpose-and-interpretation-9444b4b049c9\n",
    "\n",
    "6. Missing values preprocessing using scikit-learn API (great code examples, great explanation):    \n",
    "https://scikit-learn.org/stable/modules/impute.html\n",
    "\n",
    "7. Feature selection scikit-learn API (great code examples, great explanation):   \n",
    "https://scikit-learn.org/stable/modules/feature_selection.html\n",
    "\n",
    "8. Melbourne housing dataset source:    \n",
    "https://www.kaggle.com/anthonypino/melbourne-housing-market"
   ]
  }
 ],
 "metadata": {
  "kernelspec": {
   "display_name": "Python 3 (ipykernel)",
   "language": "python",
   "name": "python3"
  },
  "language_info": {
   "codemirror_mode": {
    "name": "ipython",
    "version": 3
   },
   "file_extension": ".py",
   "mimetype": "text/x-python",
   "name": "python",
   "nbconvert_exporter": "python",
   "pygments_lexer": "ipython3",
   "version": "3.10.2"
  },
  "toc": {
   "base_numbering": "1",
   "nav_menu": {},
   "number_sections": true,
   "sideBar": true,
   "skip_h1_title": false,
   "title_cell": "Table of Contents",
   "title_sidebar": "Contents",
   "toc_cell": false,
   "toc_position": {
    "height": "calc(100% - 180px)",
    "left": "10px",
    "top": "150px",
    "width": "165px"
   },
   "toc_section_display": true,
   "toc_window_display": true
  }
 },
 "nbformat": 4,
 "nbformat_minor": 4
}
