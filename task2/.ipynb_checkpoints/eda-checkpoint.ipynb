{
 "cells": [
  {
   "cell_type": "markdown",
   "id": "d07912a0",
   "metadata": {},
   "source": [
    "# Context"
   ]
  },
  {
   "cell_type": "markdown",
   "id": "86e4abe2",
   "metadata": {},
   "source": [
    "В этом соревновании нужно было определить кто выжил при крушении лайнера. Данные синтетические но похожи на те, что были у Титаника. Сами данные отсюда: https://www.kaggle.com/c/tabular-playground-series-apr-2021/data"
   ]
  },
  {
   "cell_type": "markdown",
   "id": "869f5c33",
   "metadata": {},
   "source": [
    "# Data quality assessment"
   ]
  },
  {
   "cell_type": "code",
   "execution_count": 1,
   "id": "e443ca82",
   "metadata": {},
   "outputs": [],
   "source": [
    "# Подключаем библиотеки\n",
    "import numpy as np\n",
    "import pandas as pd\n",
    "import matplotlib.pyplot as plt\n",
    "import seaborn as sns"
   ]
  },
  {
   "cell_type": "code",
   "execution_count": 2,
   "id": "3152268c",
   "metadata": {},
   "outputs": [
    {
     "name": "stdout",
     "output_type": "stream",
     "text": [
      "(100000, 11)\n"
     ]
    },
    {
     "data": {
      "text/html": [
       "<div>\n",
       "<style scoped>\n",
       "    .dataframe tbody tr th:only-of-type {\n",
       "        vertical-align: middle;\n",
       "    }\n",
       "\n",
       "    .dataframe tbody tr th {\n",
       "        vertical-align: top;\n",
       "    }\n",
       "\n",
       "    .dataframe thead th {\n",
       "        text-align: right;\n",
       "    }\n",
       "</style>\n",
       "<table border=\"1\" class=\"dataframe\">\n",
       "  <thead>\n",
       "    <tr style=\"text-align: right;\">\n",
       "      <th></th>\n",
       "      <th>Survived</th>\n",
       "      <th>Pclass</th>\n",
       "      <th>Name</th>\n",
       "      <th>Sex</th>\n",
       "      <th>Age</th>\n",
       "      <th>SibSp</th>\n",
       "      <th>Parch</th>\n",
       "      <th>Ticket</th>\n",
       "      <th>Fare</th>\n",
       "      <th>Cabin</th>\n",
       "      <th>Embarked</th>\n",
       "    </tr>\n",
       "    <tr>\n",
       "      <th>PassengerId</th>\n",
       "      <th></th>\n",
       "      <th></th>\n",
       "      <th></th>\n",
       "      <th></th>\n",
       "      <th></th>\n",
       "      <th></th>\n",
       "      <th></th>\n",
       "      <th></th>\n",
       "      <th></th>\n",
       "      <th></th>\n",
       "      <th></th>\n",
       "    </tr>\n",
       "  </thead>\n",
       "  <tbody>\n",
       "    <tr>\n",
       "      <th>0</th>\n",
       "      <td>1</td>\n",
       "      <td>1</td>\n",
       "      <td>Oconnor, Frankie</td>\n",
       "      <td>male</td>\n",
       "      <td>NaN</td>\n",
       "      <td>2</td>\n",
       "      <td>0</td>\n",
       "      <td>209245</td>\n",
       "      <td>27.14</td>\n",
       "      <td>C12239</td>\n",
       "      <td>S</td>\n",
       "    </tr>\n",
       "    <tr>\n",
       "      <th>1</th>\n",
       "      <td>0</td>\n",
       "      <td>3</td>\n",
       "      <td>Bryan, Drew</td>\n",
       "      <td>male</td>\n",
       "      <td>NaN</td>\n",
       "      <td>0</td>\n",
       "      <td>0</td>\n",
       "      <td>27323</td>\n",
       "      <td>13.35</td>\n",
       "      <td>NaN</td>\n",
       "      <td>S</td>\n",
       "    </tr>\n",
       "    <tr>\n",
       "      <th>2</th>\n",
       "      <td>0</td>\n",
       "      <td>3</td>\n",
       "      <td>Owens, Kenneth</td>\n",
       "      <td>male</td>\n",
       "      <td>0.33</td>\n",
       "      <td>1</td>\n",
       "      <td>2</td>\n",
       "      <td>CA 457703</td>\n",
       "      <td>71.29</td>\n",
       "      <td>NaN</td>\n",
       "      <td>S</td>\n",
       "    </tr>\n",
       "    <tr>\n",
       "      <th>3</th>\n",
       "      <td>0</td>\n",
       "      <td>3</td>\n",
       "      <td>Kramer, James</td>\n",
       "      <td>male</td>\n",
       "      <td>19.00</td>\n",
       "      <td>0</td>\n",
       "      <td>0</td>\n",
       "      <td>A. 10866</td>\n",
       "      <td>13.04</td>\n",
       "      <td>NaN</td>\n",
       "      <td>S</td>\n",
       "    </tr>\n",
       "    <tr>\n",
       "      <th>4</th>\n",
       "      <td>1</td>\n",
       "      <td>3</td>\n",
       "      <td>Bond, Michael</td>\n",
       "      <td>male</td>\n",
       "      <td>25.00</td>\n",
       "      <td>0</td>\n",
       "      <td>0</td>\n",
       "      <td>427635</td>\n",
       "      <td>7.76</td>\n",
       "      <td>NaN</td>\n",
       "      <td>S</td>\n",
       "    </tr>\n",
       "  </tbody>\n",
       "</table>\n",
       "</div>"
      ],
      "text/plain": [
       "             Survived  Pclass              Name   Sex    Age  SibSp  Parch  \\\n",
       "PassengerId                                                                  \n",
       "0                   1       1  Oconnor, Frankie  male    NaN      2      0   \n",
       "1                   0       3       Bryan, Drew  male    NaN      0      0   \n",
       "2                   0       3    Owens, Kenneth  male   0.33      1      2   \n",
       "3                   0       3     Kramer, James  male  19.00      0      0   \n",
       "4                   1       3     Bond, Michael  male  25.00      0      0   \n",
       "\n",
       "                Ticket   Fare   Cabin Embarked  \n",
       "PassengerId                                     \n",
       "0               209245  27.14  C12239        S  \n",
       "1                27323  13.35     NaN        S  \n",
       "2            CA 457703  71.29     NaN        S  \n",
       "3             A. 10866  13.04     NaN        S  \n",
       "4               427635   7.76     NaN        S  "
      ]
     },
     "execution_count": 2,
     "metadata": {},
     "output_type": "execute_result"
    }
   ],
   "source": [
    "# Загружаем данные\n",
    "df = pd.read_csv('train.csv', index_col=0)\n",
    "print(df.shape)\n",
    "df.head(5)"
   ]
  },
  {
   "cell_type": "markdown",
   "id": "67767853",
   "metadata": {},
   "source": [
    "100000 пассажиров! Большой кораблик"
   ]
  },
  {
   "cell_type": "code",
   "execution_count": 3,
   "id": "6186071b",
   "metadata": {},
   "outputs": [
    {
     "data": {
      "text/plain": [
       "Survived      int64\n",
       "Pclass        int64\n",
       "Name         object\n",
       "Sex          object\n",
       "Age         float64\n",
       "SibSp         int64\n",
       "Parch         int64\n",
       "Ticket       object\n",
       "Fare        float64\n",
       "Cabin        object\n",
       "Embarked     object\n",
       "dtype: object"
      ]
     },
     "execution_count": 3,
     "metadata": {},
     "output_type": "execute_result"
    }
   ],
   "source": [
    "# типы данных\n",
    "df.dtypes"
   ]
  },
  {
   "cell_type": "markdown",
   "id": "3b3f17b5",
   "metadata": {},
   "source": [
    "Вроде все числа прочитались как числа - все ок"
   ]
  },
  {
   "cell_type": "code",
   "execution_count": 4,
   "id": "b39aa6e4",
   "metadata": {},
   "outputs": [
    {
     "name": "stdout",
     "output_type": "stream",
     "text": [
      "(0, 11)\n"
     ]
    }
   ],
   "source": [
    "# Проверим на дубли\n",
    "dups = df[df.duplicated()]\n",
    "print(dups.shape)"
   ]
  },
  {
   "cell_type": "code",
   "execution_count": 5,
   "id": "cdf3d4c2",
   "metadata": {},
   "outputs": [
    {
     "name": "stdout",
     "output_type": "stream",
     "text": [
      "(12760, 11)\n"
     ]
    },
    {
     "data": {
      "text/html": [
       "<div>\n",
       "<style scoped>\n",
       "    .dataframe tbody tr th:only-of-type {\n",
       "        vertical-align: middle;\n",
       "    }\n",
       "\n",
       "    .dataframe tbody tr th {\n",
       "        vertical-align: top;\n",
       "    }\n",
       "\n",
       "    .dataframe thead th {\n",
       "        text-align: right;\n",
       "    }\n",
       "</style>\n",
       "<table border=\"1\" class=\"dataframe\">\n",
       "  <thead>\n",
       "    <tr style=\"text-align: right;\">\n",
       "      <th></th>\n",
       "      <th>Survived</th>\n",
       "      <th>Pclass</th>\n",
       "      <th>Name</th>\n",
       "      <th>Sex</th>\n",
       "      <th>Age</th>\n",
       "      <th>SibSp</th>\n",
       "      <th>Parch</th>\n",
       "      <th>Ticket</th>\n",
       "      <th>Fare</th>\n",
       "      <th>Cabin</th>\n",
       "      <th>Embarked</th>\n",
       "    </tr>\n",
       "    <tr>\n",
       "      <th>PassengerId</th>\n",
       "      <th></th>\n",
       "      <th></th>\n",
       "      <th></th>\n",
       "      <th></th>\n",
       "      <th></th>\n",
       "      <th></th>\n",
       "      <th></th>\n",
       "      <th></th>\n",
       "      <th></th>\n",
       "      <th></th>\n",
       "      <th></th>\n",
       "    </tr>\n",
       "  </thead>\n",
       "  <tbody>\n",
       "    <tr>\n",
       "      <th>83433</th>\n",
       "      <td>0</td>\n",
       "      <td>1</td>\n",
       "      <td>Abbott, Steven</td>\n",
       "      <td>male</td>\n",
       "      <td>62.0</td>\n",
       "      <td>1</td>\n",
       "      <td>1</td>\n",
       "      <td>C.A. 415184</td>\n",
       "      <td>81.79</td>\n",
       "      <td>A15776</td>\n",
       "      <td>S</td>\n",
       "    </tr>\n",
       "    <tr>\n",
       "      <th>43514</th>\n",
       "      <td>0</td>\n",
       "      <td>3</td>\n",
       "      <td>Abbott, Steven</td>\n",
       "      <td>male</td>\n",
       "      <td>39.0</td>\n",
       "      <td>0</td>\n",
       "      <td>0</td>\n",
       "      <td>44125</td>\n",
       "      <td>23.38</td>\n",
       "      <td>NaN</td>\n",
       "      <td>S</td>\n",
       "    </tr>\n",
       "    <tr>\n",
       "      <th>11074</th>\n",
       "      <td>0</td>\n",
       "      <td>3</td>\n",
       "      <td>Acevedo, James</td>\n",
       "      <td>male</td>\n",
       "      <td>51.0</td>\n",
       "      <td>0</td>\n",
       "      <td>0</td>\n",
       "      <td>NaN</td>\n",
       "      <td>29.08</td>\n",
       "      <td>NaN</td>\n",
       "      <td>S</td>\n",
       "    </tr>\n",
       "    <tr>\n",
       "      <th>40840</th>\n",
       "      <td>0</td>\n",
       "      <td>1</td>\n",
       "      <td>Acevedo, James</td>\n",
       "      <td>male</td>\n",
       "      <td>NaN</td>\n",
       "      <td>0</td>\n",
       "      <td>0</td>\n",
       "      <td>420535</td>\n",
       "      <td>102.87</td>\n",
       "      <td>A10333</td>\n",
       "      <td>S</td>\n",
       "    </tr>\n",
       "    <tr>\n",
       "      <th>39910</th>\n",
       "      <td>0</td>\n",
       "      <td>3</td>\n",
       "      <td>Acosta, David</td>\n",
       "      <td>male</td>\n",
       "      <td>23.0</td>\n",
       "      <td>0</td>\n",
       "      <td>0</td>\n",
       "      <td>30739</td>\n",
       "      <td>12.56</td>\n",
       "      <td>NaN</td>\n",
       "      <td>S</td>\n",
       "    </tr>\n",
       "    <tr>\n",
       "      <th>47172</th>\n",
       "      <td>0</td>\n",
       "      <td>1</td>\n",
       "      <td>Acosta, David</td>\n",
       "      <td>male</td>\n",
       "      <td>40.0</td>\n",
       "      <td>0</td>\n",
       "      <td>0</td>\n",
       "      <td>444308</td>\n",
       "      <td>90.82</td>\n",
       "      <td>B21005</td>\n",
       "      <td>Q</td>\n",
       "    </tr>\n",
       "    <tr>\n",
       "      <th>2441</th>\n",
       "      <td>0</td>\n",
       "      <td>3</td>\n",
       "      <td>Adams, Andres</td>\n",
       "      <td>male</td>\n",
       "      <td>38.0</td>\n",
       "      <td>0</td>\n",
       "      <td>0</td>\n",
       "      <td>9234</td>\n",
       "      <td>7.32</td>\n",
       "      <td>NaN</td>\n",
       "      <td>S</td>\n",
       "    </tr>\n",
       "    <tr>\n",
       "      <th>9649</th>\n",
       "      <td>0</td>\n",
       "      <td>1</td>\n",
       "      <td>Adams, Andres</td>\n",
       "      <td>male</td>\n",
       "      <td>39.0</td>\n",
       "      <td>1</td>\n",
       "      <td>0</td>\n",
       "      <td>204626</td>\n",
       "      <td>13.06</td>\n",
       "      <td>NaN</td>\n",
       "      <td>Q</td>\n",
       "    </tr>\n",
       "    <tr>\n",
       "      <th>65557</th>\n",
       "      <td>0</td>\n",
       "      <td>3</td>\n",
       "      <td>Adams, Anthony</td>\n",
       "      <td>male</td>\n",
       "      <td>52.0</td>\n",
       "      <td>0</td>\n",
       "      <td>0</td>\n",
       "      <td>SC/AH 4156058</td>\n",
       "      <td>7.09</td>\n",
       "      <td>NaN</td>\n",
       "      <td>S</td>\n",
       "    </tr>\n",
       "    <tr>\n",
       "      <th>12843</th>\n",
       "      <td>0</td>\n",
       "      <td>2</td>\n",
       "      <td>Adams, Anthony</td>\n",
       "      <td>male</td>\n",
       "      <td>8.0</td>\n",
       "      <td>0</td>\n",
       "      <td>0</td>\n",
       "      <td>CA. 44794</td>\n",
       "      <td>9.39</td>\n",
       "      <td>NaN</td>\n",
       "      <td>S</td>\n",
       "    </tr>\n",
       "  </tbody>\n",
       "</table>\n",
       "</div>"
      ],
      "text/plain": [
       "             Survived  Pclass            Name   Sex   Age  SibSp  Parch  \\\n",
       "PassengerId                                                               \n",
       "83433               0       1  Abbott, Steven  male  62.0      1      1   \n",
       "43514               0       3  Abbott, Steven  male  39.0      0      0   \n",
       "11074               0       3  Acevedo, James  male  51.0      0      0   \n",
       "40840               0       1  Acevedo, James  male   NaN      0      0   \n",
       "39910               0       3   Acosta, David  male  23.0      0      0   \n",
       "47172               0       1   Acosta, David  male  40.0      0      0   \n",
       "2441                0       3   Adams, Andres  male  38.0      0      0   \n",
       "9649                0       1   Adams, Andres  male  39.0      1      0   \n",
       "65557               0       3  Adams, Anthony  male  52.0      0      0   \n",
       "12843               0       2  Adams, Anthony  male   8.0      0      0   \n",
       "\n",
       "                    Ticket    Fare   Cabin Embarked  \n",
       "PassengerId                                          \n",
       "83433          C.A. 415184   81.79  A15776        S  \n",
       "43514                44125   23.38     NaN        S  \n",
       "11074                  NaN   29.08     NaN        S  \n",
       "40840               420535  102.87  A10333        S  \n",
       "39910                30739   12.56     NaN        S  \n",
       "47172               444308   90.82  B21005        Q  \n",
       "2441                  9234    7.32     NaN        S  \n",
       "9649                204626   13.06     NaN        Q  \n",
       "65557        SC/AH 4156058    7.09     NaN        S  \n",
       "12843            CA. 44794    9.39     NaN        S  "
      ]
     },
     "execution_count": 5,
     "metadata": {},
     "output_type": "execute_result"
    }
   ],
   "source": [
    "# Полных дублей нет, проверим как там с однофамильцами\n",
    "dups = df[df.duplicated(subset=['Name'], keep=False)]\n",
    "print(dups.shape)\n",
    "dups.sort_values('Name').head(10)"
   ]
  },
  {
   "cell_type": "markdown",
   "id": "5b70fa4e",
   "metadata": {},
   "source": [
    "куча однофамильцев, но это разные люди судя по всему а не ошибка"
   ]
  },
  {
   "cell_type": "code",
   "execution_count": 6,
   "id": "01a77236",
   "metadata": {},
   "outputs": [
    {
     "name": "stdout",
     "output_type": "stream",
     "text": [
      "['male' 'female']\n",
      "['S' 'C' 'Q' nan]\n",
      "[1 0]\n",
      "[1 3 2]\n"
     ]
    }
   ],
   "source": [
    "# проверим наши категории\n",
    "print(df['Sex'].unique())\n",
    "print(df['Embarked'].unique())\n",
    "print(df['Survived'].unique())\n",
    "print(df['Pclass'].unique())"
   ]
  },
  {
   "cell_type": "markdown",
   "id": "f3de928c",
   "metadata": {},
   "source": [
    "вроде ничего лишнего, в столбце Embarked данные неполные"
   ]
  },
  {
   "cell_type": "markdown",
   "id": "5408eca5",
   "metadata": {},
   "source": [
    "# Data exploration"
   ]
  },
  {
   "cell_type": "code",
   "execution_count": 29,
   "id": "d9136af9",
   "metadata": {},
   "outputs": [
    {
     "data": {
      "text/html": [
       "<div>\n",
       "<style scoped>\n",
       "    .dataframe tbody tr th:only-of-type {\n",
       "        vertical-align: middle;\n",
       "    }\n",
       "\n",
       "    .dataframe tbody tr th {\n",
       "        vertical-align: top;\n",
       "    }\n",
       "\n",
       "    .dataframe thead th {\n",
       "        text-align: right;\n",
       "    }\n",
       "</style>\n",
       "<table border=\"1\" class=\"dataframe\">\n",
       "  <thead>\n",
       "    <tr style=\"text-align: right;\">\n",
       "      <th></th>\n",
       "      <th>Survived</th>\n",
       "      <th>Pclass</th>\n",
       "      <th>Age</th>\n",
       "      <th>SibSp</th>\n",
       "      <th>Parch</th>\n",
       "      <th>Fare</th>\n",
       "    </tr>\n",
       "  </thead>\n",
       "  <tbody>\n",
       "    <tr>\n",
       "      <th>count</th>\n",
       "      <td>100000.000000</td>\n",
       "      <td>100000.000000</td>\n",
       "      <td>96708.000000</td>\n",
       "      <td>100000.000000</td>\n",
       "      <td>100000.000000</td>\n",
       "      <td>99866.00000</td>\n",
       "    </tr>\n",
       "    <tr>\n",
       "      <th>mean</th>\n",
       "      <td>0.427740</td>\n",
       "      <td>2.106910</td>\n",
       "      <td>38.355472</td>\n",
       "      <td>0.397690</td>\n",
       "      <td>0.454560</td>\n",
       "      <td>43.92933</td>\n",
       "    </tr>\n",
       "    <tr>\n",
       "      <th>std</th>\n",
       "      <td>0.494753</td>\n",
       "      <td>0.837727</td>\n",
       "      <td>18.313556</td>\n",
       "      <td>0.862566</td>\n",
       "      <td>0.950076</td>\n",
       "      <td>69.58882</td>\n",
       "    </tr>\n",
       "    <tr>\n",
       "      <th>min</th>\n",
       "      <td>0.000000</td>\n",
       "      <td>1.000000</td>\n",
       "      <td>0.080000</td>\n",
       "      <td>0.000000</td>\n",
       "      <td>0.000000</td>\n",
       "      <td>0.68000</td>\n",
       "    </tr>\n",
       "    <tr>\n",
       "      <th>25%</th>\n",
       "      <td>0.000000</td>\n",
       "      <td>1.000000</td>\n",
       "      <td>25.000000</td>\n",
       "      <td>0.000000</td>\n",
       "      <td>0.000000</td>\n",
       "      <td>10.04000</td>\n",
       "    </tr>\n",
       "    <tr>\n",
       "      <th>50%</th>\n",
       "      <td>0.000000</td>\n",
       "      <td>2.000000</td>\n",
       "      <td>39.000000</td>\n",
       "      <td>0.000000</td>\n",
       "      <td>0.000000</td>\n",
       "      <td>24.46000</td>\n",
       "    </tr>\n",
       "    <tr>\n",
       "      <th>75%</th>\n",
       "      <td>1.000000</td>\n",
       "      <td>3.000000</td>\n",
       "      <td>53.000000</td>\n",
       "      <td>1.000000</td>\n",
       "      <td>1.000000</td>\n",
       "      <td>33.50000</td>\n",
       "    </tr>\n",
       "    <tr>\n",
       "      <th>max</th>\n",
       "      <td>1.000000</td>\n",
       "      <td>3.000000</td>\n",
       "      <td>87.000000</td>\n",
       "      <td>8.000000</td>\n",
       "      <td>9.000000</td>\n",
       "      <td>744.66000</td>\n",
       "    </tr>\n",
       "  </tbody>\n",
       "</table>\n",
       "</div>"
      ],
      "text/plain": [
       "            Survived         Pclass           Age          SibSp  \\\n",
       "count  100000.000000  100000.000000  96708.000000  100000.000000   \n",
       "mean        0.427740       2.106910     38.355472       0.397690   \n",
       "std         0.494753       0.837727     18.313556       0.862566   \n",
       "min         0.000000       1.000000      0.080000       0.000000   \n",
       "25%         0.000000       1.000000     25.000000       0.000000   \n",
       "50%         0.000000       2.000000     39.000000       0.000000   \n",
       "75%         1.000000       3.000000     53.000000       1.000000   \n",
       "max         1.000000       3.000000     87.000000       8.000000   \n",
       "\n",
       "               Parch         Fare  \n",
       "count  100000.000000  99866.00000  \n",
       "mean        0.454560     43.92933  \n",
       "std         0.950076     69.58882  \n",
       "min         0.000000      0.68000  \n",
       "25%         0.000000     10.04000  \n",
       "50%         0.000000     24.46000  \n",
       "75%         1.000000     33.50000  \n",
       "max         9.000000    744.66000  "
      ]
     },
     "execution_count": 29,
     "metadata": {},
     "output_type": "execute_result"
    }
   ],
   "source": [
    "# знакомимся с данными\n",
    "df.describe()"
   ]
  },
  {
   "cell_type": "markdown",
   "id": "ac10e138",
   "metadata": {},
   "source": [
    "## Survived"
   ]
  },
  {
   "cell_type": "markdown",
   "id": "e58842fc",
   "metadata": {},
   "source": [
    "Наша целевая переменная. Означает кто выжил. \n",
    "1 - Да \n",
    "0 - Нет"
   ]
  },
  {
   "cell_type": "code",
   "execution_count": 7,
   "id": "2417286d",
   "metadata": {},
   "outputs": [
    {
     "data": {
      "text/plain": [
       "<AxesSubplot:xlabel='Survived', ylabel='count'>"
      ]
     },
     "execution_count": 7,
     "metadata": {},
     "output_type": "execute_result"
    },
    {
     "data": {
      "image/png": "[encoded data removed]",
      "text/plain": [
       "<Figure size 432x288 with 1 Axes>"
      ]
     },
     "metadata": {
      "needs_background": "light"
     },
     "output_type": "display_data"
    }
   ],
   "source": [
    "sns.countplot(x=df['Survived'])"
   ]
  },
  {
   "cell_type": "code",
   "execution_count": 8,
   "id": "53c4f43e",
   "metadata": {},
   "outputs": [
    {
     "name": "stdout",
     "output_type": "stream",
     "text": [
      "Выжило 42.774%\n"
     ]
    }
   ],
   "source": [
    "print(f\"Выжило {df['Survived'].mean()*100}%\")"
   ]
  },
  {
   "cell_type": "markdown",
   "id": "0157fed7",
   "metadata": {},
   "source": [
    "## Pclass\n",
    "\n",
    "Класс билета, 1 самый дорогой."
   ]
  },
  {
   "cell_type": "code",
   "execution_count": 9,
   "id": "ec9af7ff",
   "metadata": {},
   "outputs": [
    {
     "data": {
      "text/plain": [
       "<AxesSubplot:xlabel='Pclass', ylabel='count'>"
      ]
     },
     "execution_count": 9,
     "metadata": {},
     "output_type": "execute_result"
    },
    {
     "data": {
      "image/png": "[encoded data removed]",
      "text/plain": [
       "<Figure size 432x288 with 1 Axes>"
      ]
     },
     "metadata": {
      "needs_background": "light"
     },
     "output_type": "display_data"
    }
   ],
   "source": [
    "# Распределение по классам\n",
    "sns.countplot(x=df['Pclass'])"
   ]
  },
  {
   "cell_type": "code",
   "execution_count": 17,
   "id": "b331985a",
   "metadata": {},
   "outputs": [
    {
     "data": {
      "text/plain": [
       "<AxesSubplot:xlabel='Pclass', ylabel='Survived'>"
      ]
     },
     "execution_count": 17,
     "metadata": {},
     "output_type": "execute_result"
    },
    {
     "data": {
      "image/png": "[encoded data removed]",
      "text/plain": [
       "<Figure size 432x288 with 1 Axes>"
      ]
     },
     "metadata": {
      "needs_background": "light"
     },
     "output_type": "display_data"
    }
   ],
   "source": [
    "# Есть ли зависимость выживания от класса?\n",
    "stats = df.groupby('Pclass').mean()\n",
    "sns.barplot(x=stats['Survived'].index, y=stats['Survived'])"
   ]
  },
  {
   "cell_type": "markdown",
   "id": "dd9b9135",
   "metadata": {},
   "source": [
    "Зависимость есть, из третьего класса меньше четверти выжило."
   ]
  },
  {
   "cell_type": "markdown",
   "id": "8f1eac12",
   "metadata": {},
   "source": [
    "## Sex\n",
    "Пол пассажира"
   ]
  },
  {
   "cell_type": "code",
   "execution_count": 19,
   "id": "cb88b890",
   "metadata": {},
   "outputs": [
    {
     "data": {
      "text/plain": [
       "<AxesSubplot:xlabel='Sex', ylabel='count'>"
      ]
     },
     "execution_count": 19,
     "metadata": {},
     "output_type": "execute_result"
    },
    {
     "data": {
      "image/png": "[encoded data removed]",
      "text/plain": [
       "<Figure size 432x288 with 1 Axes>"
      ]
     },
     "metadata": {
      "needs_background": "light"
     },
     "output_type": "display_data"
    }
   ],
   "source": [
    "# Половой состав пассажиров\n",
    "sns.countplot(x=df['Sex'])"
   ]
  },
  {
   "cell_type": "code",
   "execution_count": 18,
   "id": "1e3f50c6",
   "metadata": {},
   "outputs": [
    {
     "data": {
      "text/plain": [
       "<AxesSubplot:xlabel='Sex', ylabel='Survived'>"
      ]
     },
     "execution_count": 18,
     "metadata": {},
     "output_type": "execute_result"
    },
    {
     "data": {
      "image/png": "[encoded data removed]",
      "text/plain": [
       "<Figure size 432x288 with 1 Axes>"
      ]
     },
     "metadata": {
      "needs_background": "light"
     },
     "output_type": "display_data"
    }
   ],
   "source": [
    "# Есть ли зависимость выживания от пола?\n",
    "stats = df.groupby('Sex').mean()\n",
    "sns.barplot(x=stats['Survived'].index, y=stats['Survived'])"
   ]
  },
  {
   "cell_type": "code",
   "execution_count": 23,
   "id": "d5d1b03e",
   "metadata": {},
   "outputs": [
    {
     "data": {
      "text/plain": [
       "<AxesSubplot:xlabel='Pclass', ylabel='count'>"
      ]
     },
     "execution_count": 23,
     "metadata": {},
     "output_type": "execute_result"
    },
    {
     "data": {
      "image/png": "[encoded data removed]",
      "text/plain": [
       "<Figure size 432x288 with 1 Axes>"
      ]
     },
     "metadata": {
      "needs_background": "light"
     },
     "output_type": "display_data"
    }
   ],
   "source": [
    "# В каком классе больше женщин было?\n",
    "sns.countplot(x=\"Pclass\", hue=\"Sex\", data=df)"
   ]
  },
  {
   "cell_type": "code",
   "execution_count": 25,
   "id": "bdaabffb",
   "metadata": {},
   "outputs": [
    {
     "data": {
      "text/plain": [
       "<seaborn.axisgrid.FacetGrid at 0x245f7b30dc0>"
      ]
     },
     "execution_count": 25,
     "metadata": {},
     "output_type": "execute_result"
    },
    {
     "data": {
      "image/png": "[encoded data removed]",
      "text/plain": [
       "<Figure size 430.5x360 with 1 Axes>"
      ]
     },
     "metadata": {
      "needs_background": "light"
     },
     "output_type": "display_data"
    }
   ],
   "source": [
    "# Шансы на выживание в зависимости от пола и класса:\n",
    "sns.catplot(x=\"Pclass\", y=\"Survived\", hue=\"Sex\", data=df, kind='bar')"
   ]
  },
  {
   "cell_type": "markdown",
   "id": "483fc8d3",
   "metadata": {},
   "source": [
    "Как и ожидалось лучше быть женщиной 1 класса чем мужчиной третьего"
   ]
  },
  {
   "cell_type": "markdown",
   "id": "78a626c9",
   "metadata": {},
   "source": [
    "## Name\n",
    "\n",
    "Не могу придумать никаких гипотез про имена которые стоило бы проверять."
   ]
  },
  {
   "cell_type": "code",
   "execution_count": 14,
   "id": "18f8eab2",
   "metadata": {},
   "outputs": [
    {
     "name": "stdout",
     "output_type": "stream",
     "text": [
      "0\n",
      "0\n"
     ]
    }
   ],
   "source": [
    "# Ну разве что можно проверить есть ли анонимусы\n",
    "anons = df[df['Name'].isna()]\n",
    "print(anons.shape[0])\n",
    "# И пустые строки вместо имен\n",
    "empty = df[df['Name'].str.len() < 5]\n",
    "print(empty.shape[0])"
   ]
  },
  {
   "cell_type": "markdown",
   "id": "5171bacb",
   "metadata": {},
   "source": [
    "## Age\n",
    "\n",
    "Возраст"
   ]
  },
  {
   "cell_type": "code",
   "execution_count": 27,
   "id": "08a6324f",
   "metadata": {},
   "outputs": [
    {
     "name": "stdout",
     "output_type": "stream",
     "text": [
      "3292\n"
     ]
    }
   ],
   "source": [
    "# Проверим на пустые значения\n",
    "eternals = df[df['Age'].isna()]\n",
    "mortals = df[df['Age'].notna()]\n",
    "print(eternals.shape[0])"
   ]
  },
  {
   "cell_type": "code",
   "execution_count": 41,
   "id": "80f74f01",
   "metadata": {},
   "outputs": [
    {
     "data": {
      "text/plain": [
       "Survived   -0.015832\n",
       "Pclass      0.020672\n",
       "Age              NaN\n",
       "SibSp      -0.016159\n",
       "Parch      -0.021085\n",
       "Fare       -0.321204\n",
       "Name: mean, dtype: float64"
      ]
     },
     "execution_count": 41,
     "metadata": {},
     "output_type": "execute_result"
    }
   ],
   "source": [
    "# что-то особенное про людей без возраста?\n",
    "stats = eternals.describe().loc['mean']-df.describe().loc['mean']\n",
    "stats"
   ]
  },
  {
   "cell_type": "markdown",
   "id": "a0c330a3",
   "metadata": {},
   "source": [
    "Вроде ничем они не примечательны, скорее всего системы в отсутствии данных нет"
   ]
  },
  {
   "cell_type": "code",
   "execution_count": 49,
   "id": "2919341a",
   "metadata": {},
   "outputs": [
    {
     "data": {
      "text/plain": [
       "<seaborn.axisgrid.FacetGrid at 0x245f952d570>"
      ]
     },
     "execution_count": 49,
     "metadata": {},
     "output_type": "execute_result"
    },
    {
     "data": {
      "image/png": "[encoded data removed]",
      "text/plain": [
       "<Figure size 360x360 with 1 Axes>"
      ]
     },
     "metadata": {
      "needs_background": "light"
     },
     "output_type": "display_data"
    }
   ],
   "source": [
    "# распределение по возрастам\n",
    "sns.displot(mortals['Age'],  kind=\"kde\")"
   ]
  },
  {
   "cell_type": "code",
   "execution_count": 58,
   "id": "81b38f59",
   "metadata": {},
   "outputs": [
    {
     "data": {
      "text/plain": [
       "<seaborn.axisgrid.FacetGrid at 0x2458331c220>"
      ]
     },
     "execution_count": 58,
     "metadata": {},
     "output_type": "execute_result"
    },
    {
     "data": {
      "image/png": "[encoded data removed]",
      "text/plain": [
       "<Figure size 430.5x360 with 1 Axes>"
      ]
     },
     "metadata": {
      "needs_background": "light"
     },
     "output_type": "display_data"
    }
   ],
   "source": [
    "# распределение по возрастам и полу\n",
    "sns.displot(data=mortals, x='Age', hue='Sex', kind=\"kde\")"
   ]
  },
  {
   "cell_type": "markdown",
   "id": "beba7f0d",
   "metadata": {},
   "source": [
    "Молодых мужчин почему-то больше, это команда корабля?"
   ]
  },
  {
   "cell_type": "code",
   "execution_count": 51,
   "id": "080a7732",
   "metadata": {},
   "outputs": [
    {
     "data": {
      "text/plain": [
       "<seaborn.axisgrid.FacetGrid at 0x245f8f77d60>"
      ]
     },
     "execution_count": 51,
     "metadata": {},
     "output_type": "execute_result"
    },
    {
     "data": {
      "image/png": "[encoded data removed]",
      "text/plain": [
       "<Figure size 411.875x360 with 1 Axes>"
      ]
     },
     "metadata": {
      "needs_background": "light"
     },
     "output_type": "display_data"
    }
   ],
   "source": [
    "# выживание от возраста\n",
    "sns.displot(data=mortals, x='Age', hue='Survived', kind=\"kde\")"
   ]
  },
  {
   "cell_type": "code",
   "execution_count": 52,
   "id": "bab57994",
   "metadata": {},
   "outputs": [
    {
     "data": {
      "text/plain": [
       "<seaborn.axisgrid.FacetGrid at 0x245f9502c50>"
      ]
     },
     "execution_count": 52,
     "metadata": {},
     "output_type": "execute_result"
    },
    {
     "data": {
      "image/png": "[encoded data removed]",
      "text/plain": [
       "<Figure size 771.875x360 with 2 Axes>"
      ]
     },
     "metadata": {
      "needs_background": "light"
     },
     "output_type": "display_data"
    }
   ],
   "source": [
    "# выживание от возраста и пола\n",
    "sns.displot(data=mortals, x='Age', hue='Survived', col=\"Sex\", kind=\"kde\")"
   ]
  },
  {
   "cell_type": "markdown",
   "id": "f3bdf0fe",
   "metadata": {},
   "source": [
    "даже для детей пол важен был!\n",
    "А молодым мужчинам вообще без вариантов"
   ]
  },
  {
   "cell_type": "markdown",
   "id": "e6b68756",
   "metadata": {},
   "source": [
    "## SibSp\n",
    "\n",
    "братья/сестры/супруги на борту"
   ]
  },
  {
   "cell_type": "code",
   "execution_count": 53,
   "id": "185b8a9d",
   "metadata": {},
   "outputs": [
    {
     "data": {
      "text/plain": [
       "<AxesSubplot:xlabel='SibSp', ylabel='count'>"
      ]
     },
     "execution_count": 53,
     "metadata": {},
     "output_type": "execute_result"
    },
    {
     "data": {
      "image/png": "[encoded data removed]",
      "text/plain": [
       "<Figure size 432x288 with 1 Axes>"
      ]
     },
     "metadata": {
      "needs_background": "light"
     },
     "output_type": "display_data"
    }
   ],
   "source": [
    "# Сколько их вообще?\n",
    "sns.countplot(x=df['SibSp'])"
   ]
  },
  {
   "cell_type": "code",
   "execution_count": 55,
   "id": "e9872468",
   "metadata": {},
   "outputs": [
    {
     "data": {
      "text/plain": [
       "<seaborn.axisgrid.FacetGrid at 0x245ff61c940>"
      ]
     },
     "execution_count": 55,
     "metadata": {},
     "output_type": "execute_result"
    },
    {
     "data": {
      "image/png": "[encoded data removed]",
      "text/plain": [
       "<Figure size 360x360 with 1 Axes>"
      ]
     },
     "metadata": {
      "needs_background": "light"
     },
     "output_type": "display_data"
    },
    {
     "data": {
      "image/png": "[encoded data removed]",
      "text/plain": [
       "<Figure size 430.5x360 with 1 Axes>"
      ]
     },
     "metadata": {
      "needs_background": "light"
     },
     "output_type": "display_data"
    }
   ],
   "source": [
    "# Есть польза от них?\n",
    "sns.catplot(x=\"SibSp\", y=\"Survived\", data=df, kind='bar')\n",
    "sns.catplot(x=\"SibSp\", y=\"Survived\", hue=\"Sex\", data=df, kind='bar')"
   ]
  },
  {
   "cell_type": "markdown",
   "id": "245923c8",
   "metadata": {},
   "source": [
    "## parch\n",
    "\n",
    "Родители/дети"
   ]
  },
  {
   "cell_type": "code",
   "execution_count": 60,
   "id": "21d5bd85",
   "metadata": {},
   "outputs": [
    {
     "data": {
      "text/plain": [
       "<AxesSubplot:xlabel='Parch', ylabel='count'>"
      ]
     },
     "execution_count": 60,
     "metadata": {},
     "output_type": "execute_result"
    },
    {
     "data": {
      "image/png": "[encoded data removed]",
      "text/plain": [
       "<Figure size 432x288 with 1 Axes>"
      ]
     },
     "metadata": {
      "needs_background": "light"
     },
     "output_type": "display_data"
    }
   ],
   "source": [
    "# Сколько их вообще?\n",
    "sns.countplot(x=df['Parch'])"
   ]
  },
  {
   "cell_type": "code",
   "execution_count": null,
   "id": "6656479e",
   "metadata": {},
   "outputs": [],
   "source": []
  },
  {
   "cell_type": "code",
   "execution_count": 61,
   "id": "3b68800c",
   "metadata": {},
   "outputs": [
    {
     "data": {
      "text/plain": [
       "<seaborn.axisgrid.FacetGrid at 0x24583365a80>"
      ]
     },
     "execution_count": 61,
     "metadata": {},
     "output_type": "execute_result"
    },
    {
     "data": {
      "image/png": "[encoded data removed]",
      "text/plain": [
       "<Figure size 360x360 with 1 Axes>"
      ]
     },
     "metadata": {
      "needs_background": "light"
     },
     "output_type": "display_data"
    },
    {
     "data": {
      "image/png": "[encoded data removed]",
      "text/plain": [
       "<Figure size 430.5x360 with 1 Axes>"
      ]
     },
     "metadata": {
      "needs_background": "light"
     },
     "output_type": "display_data"
    }
   ],
   "source": [
    "# Есть польза от них?\n",
    "sns.catplot(x=\"Parch\", y=\"Survived\", data=df, kind='bar')\n",
    "sns.catplot(x=\"Parch\", y=\"Survived\", hue=\"Sex\", data=df, kind='bar')"
   ]
  },
  {
   "cell_type": "code",
   "execution_count": 65,
   "id": "26cdba6a",
   "metadata": {},
   "outputs": [
    {
     "data": {
      "text/plain": [
       "<seaborn.axisgrid.FacetGrid at 0x24584e42a70>"
      ]
     },
     "execution_count": 65,
     "metadata": {},
     "output_type": "execute_result"
    },
    {
     "data": {
      "image/png": "[encoded data removed]",
      "text/plain": [
       "<Figure size 430.5x360 with 1 Axes>"
      ]
     },
     "metadata": {
      "needs_background": "light"
     },
     "output_type": "display_data"
    }
   ],
   "source": [
    "# Как там дети без родителей?\n",
    "childrens = mortals[mortals['Age'] < 17]\n",
    "sns.catplot(x=\"Parch\", y=\"Survived\", hue=\"Sex\", data=childrens, kind='bar')"
   ]
  },
  {
   "cell_type": "markdown",
   "id": "824cc441",
   "metadata": {},
   "source": [
    "Почему-то девочки в двумя родителями меньше выживали."
   ]
  },
  {
   "cell_type": "markdown",
   "id": "e5af83b6",
   "metadata": {},
   "source": [
    "## Ticket\n",
    "\n",
    "номер билета, нет идей как это могло на что-то повлиять"
   ]
  },
  {
   "cell_type": "code",
   "execution_count": 69,
   "id": "da2e335d",
   "metadata": {},
   "outputs": [
    {
     "name": "stdout",
     "output_type": "stream",
     "text": [
      "0\n",
      "0\n"
     ]
    }
   ],
   "source": [
    "# Ну разве что можно проверить есть ли пустые\n",
    "no_ticket = df[df['Ticket'].isna()]\n",
    "print(anons.shape[0])\n",
    "# И пустые строки \n",
    "empty = df[df['Ticket'].str.len() < 2]\n",
    "print(empty.shape[0])"
   ]
  },
  {
   "cell_type": "markdown",
   "id": "70320cfa",
   "metadata": {},
   "source": [
    "## Embarked\n",
    "\n",
    "Порт посадки"
   ]
  },
  {
   "cell_type": "code",
   "execution_count": 75,
   "id": "d7ca3d95",
   "metadata": {},
   "outputs": [
    {
     "data": {
      "text/plain": [
       "<AxesSubplot:xlabel='Embarked', ylabel='count'>"
      ]
     },
     "execution_count": 75,
     "metadata": {},
     "output_type": "execute_result"
    },
    {
     "data": {
      "image/png": "[encoded data removed]",
      "text/plain": [
       "<Figure size 432x288 with 1 Axes>"
      ]
     },
     "metadata": {
      "needs_background": "light"
     },
     "output_type": "display_data"
    }
   ],
   "source": [
    "# откуда все эти люди?\n",
    "sns.countplot(x=df['Embarked'])"
   ]
  },
  {
   "cell_type": "code",
   "execution_count": 77,
   "id": "026c52d4",
   "metadata": {},
   "outputs": [
    {
     "data": {
      "text/plain": [
       "<seaborn.axisgrid.FacetGrid at 0x2458669e0b0>"
      ]
     },
     "execution_count": 77,
     "metadata": {},
     "output_type": "execute_result"
    },
    {
     "data": {
      "image/png": "[encoded data removed]",
      "text/plain": [
       "<Figure size 430.5x360 with 1 Axes>"
      ]
     },
     "metadata": {
      "needs_background": "light"
     },
     "output_type": "display_data"
    }
   ],
   "source": [
    "# повлиял ли порт посадки на судьбу?\n",
    "sns.catplot(x=\"Embarked\", y=\"Survived\", data=df, hue=\"Sex\", kind='bar')"
   ]
  },
  {
   "cell_type": "code",
   "execution_count": 78,
   "id": "1cc22d11",
   "metadata": {},
   "outputs": [
    {
     "data": {
      "text/plain": [
       "<seaborn.axisgrid.FacetGrid at 0x24586723d30>"
      ]
     },
     "execution_count": 78,
     "metadata": {},
     "output_type": "execute_result"
    },
    {
     "data": {
      "image/png": "[encoded data removed]",
      "text/plain": [
       "<Figure size 430.5x360 with 1 Axes>"
      ]
     },
     "metadata": {
      "needs_background": "light"
     },
     "output_type": "display_data"
    }
   ],
   "source": [
    "# может класс разный был\n",
    "sns.catplot(x=\"Embarked\", y=\"Pclass\", data=df, hue=\"Sex\", kind='bar')"
   ]
  },
  {
   "cell_type": "markdown",
   "id": "ded62c5d",
   "metadata": {},
   "source": [
    "Угадал!"
   ]
  },
  {
   "cell_type": "markdown",
   "id": "800ff749",
   "metadata": {},
   "source": [
    "## Fare\n",
    "\n",
    "цена на билет"
   ]
  },
  {
   "cell_type": "code",
   "execution_count": 80,
   "id": "5a60d83d",
   "metadata": {},
   "outputs": [
    {
     "name": "stdout",
     "output_type": "stream",
     "text": [
      "134\n"
     ]
    },
    {
     "data": {
      "text/html": [
       "<div>\n",
       "<style scoped>\n",
       "    .dataframe tbody tr th:only-of-type {\n",
       "        vertical-align: middle;\n",
       "    }\n",
       "\n",
       "    .dataframe tbody tr th {\n",
       "        vertical-align: top;\n",
       "    }\n",
       "\n",
       "    .dataframe thead th {\n",
       "        text-align: right;\n",
       "    }\n",
       "</style>\n",
       "<table border=\"1\" class=\"dataframe\">\n",
       "  <thead>\n",
       "    <tr style=\"text-align: right;\">\n",
       "      <th></th>\n",
       "      <th>Survived</th>\n",
       "      <th>Pclass</th>\n",
       "      <th>Name</th>\n",
       "      <th>Sex</th>\n",
       "      <th>Age</th>\n",
       "      <th>SibSp</th>\n",
       "      <th>Parch</th>\n",
       "      <th>Ticket</th>\n",
       "      <th>Fare</th>\n",
       "      <th>Cabin</th>\n",
       "      <th>Embarked</th>\n",
       "    </tr>\n",
       "    <tr>\n",
       "      <th>PassengerId</th>\n",
       "      <th></th>\n",
       "      <th></th>\n",
       "      <th></th>\n",
       "      <th></th>\n",
       "      <th></th>\n",
       "      <th></th>\n",
       "      <th></th>\n",
       "      <th></th>\n",
       "      <th></th>\n",
       "      <th></th>\n",
       "      <th></th>\n",
       "    </tr>\n",
       "  </thead>\n",
       "  <tbody>\n",
       "    <tr>\n",
       "      <th>39</th>\n",
       "      <td>1</td>\n",
       "      <td>2</td>\n",
       "      <td>Cultice, May</td>\n",
       "      <td>female</td>\n",
       "      <td>61.0</td>\n",
       "      <td>0</td>\n",
       "      <td>0</td>\n",
       "      <td>10193</td>\n",
       "      <td>NaN</td>\n",
       "      <td>NaN</td>\n",
       "      <td>S</td>\n",
       "    </tr>\n",
       "    <tr>\n",
       "      <th>1404</th>\n",
       "      <td>1</td>\n",
       "      <td>1</td>\n",
       "      <td>Kerr, Maryann</td>\n",
       "      <td>female</td>\n",
       "      <td>55.0</td>\n",
       "      <td>0</td>\n",
       "      <td>0</td>\n",
       "      <td>15792</td>\n",
       "      <td>NaN</td>\n",
       "      <td>C5721</td>\n",
       "      <td>C</td>\n",
       "    </tr>\n",
       "    <tr>\n",
       "      <th>1909</th>\n",
       "      <td>1</td>\n",
       "      <td>2</td>\n",
       "      <td>Thomas, Jennifer</td>\n",
       "      <td>female</td>\n",
       "      <td>22.0</td>\n",
       "      <td>0</td>\n",
       "      <td>0</td>\n",
       "      <td>12598</td>\n",
       "      <td>NaN</td>\n",
       "      <td>NaN</td>\n",
       "      <td>Q</td>\n",
       "    </tr>\n",
       "    <tr>\n",
       "      <th>1999</th>\n",
       "      <td>0</td>\n",
       "      <td>3</td>\n",
       "      <td>Flatley, Trena</td>\n",
       "      <td>female</td>\n",
       "      <td>3.0</td>\n",
       "      <td>1</td>\n",
       "      <td>2</td>\n",
       "      <td>457224</td>\n",
       "      <td>NaN</td>\n",
       "      <td>NaN</td>\n",
       "      <td>S</td>\n",
       "    </tr>\n",
       "    <tr>\n",
       "      <th>3885</th>\n",
       "      <td>1</td>\n",
       "      <td>1</td>\n",
       "      <td>Harding, Lillian</td>\n",
       "      <td>female</td>\n",
       "      <td>48.0</td>\n",
       "      <td>1</td>\n",
       "      <td>2</td>\n",
       "      <td>14367</td>\n",
       "      <td>NaN</td>\n",
       "      <td>B7243</td>\n",
       "      <td>C</td>\n",
       "    </tr>\n",
       "  </tbody>\n",
       "</table>\n",
       "</div>"
      ],
      "text/plain": [
       "             Survived  Pclass              Name     Sex   Age  SibSp  Parch  \\\n",
       "PassengerId                                                                   \n",
       "39                  1       2      Cultice, May  female  61.0      0      0   \n",
       "1404                1       1     Kerr, Maryann  female  55.0      0      0   \n",
       "1909                1       2  Thomas, Jennifer  female  22.0      0      0   \n",
       "1999                0       3    Flatley, Trena  female   3.0      1      2   \n",
       "3885                1       1  Harding, Lillian  female  48.0      1      2   \n",
       "\n",
       "             Ticket  Fare  Cabin Embarked  \n",
       "PassengerId                                \n",
       "39            10193   NaN    NaN        S  \n",
       "1404          15792   NaN  C5721        C  \n",
       "1909          12598   NaN    NaN        Q  \n",
       "1999         457224   NaN    NaN        S  \n",
       "3885          14367   NaN  B7243        C  "
      ]
     },
     "execution_count": 80,
     "metadata": {},
     "output_type": "execute_result"
    }
   ],
   "source": [
    "# нет данных?\n",
    "no_ticket = df[df['Fare'].isna()]\n",
    "have_ticket = df[df['Fare'].notna()]\n",
    "\n",
    "print(no_ticket.shape[0])\n",
    "no_ticket.head(5)"
   ]
  },
  {
   "cell_type": "markdown",
   "id": "8a9c2fb1",
   "metadata": {},
   "source": [
    "их очень мало, можно просто их не учитывать"
   ]
  },
  {
   "cell_type": "code",
   "execution_count": 74,
   "id": "fb202e50",
   "metadata": {},
   "outputs": [
    {
     "name": "stdout",
     "output_type": "stream",
     "text": [
      "0\n"
     ]
    }
   ],
   "source": [
    "# были бесплатные?\n",
    "free_ticket = df[df['Fare'] == 0]\n",
    "print(free_ticket.shape[0])"
   ]
  },
  {
   "cell_type": "code",
   "execution_count": 82,
   "id": "1dd67fa7",
   "metadata": {},
   "outputs": [
    {
     "data": {
      "text/plain": [
       "<seaborn.axisgrid.FacetGrid at 0x24586991f60>"
      ]
     },
     "execution_count": 82,
     "metadata": {},
     "output_type": "execute_result"
    },
    {
     "data": {
      "image/png": "[encoded data removed]",
      "text/plain": [
       "<Figure size 402.375x360 with 1 Axes>"
      ]
     },
     "metadata": {
      "needs_background": "light"
     },
     "output_type": "display_data"
    }
   ],
   "source": [
    "# Почем нынче прокатиться?\n",
    "sns.catplot(x=\"Embarked\", y=\"Fare\", hue=\"Pclass\", data=have_ticket, kind='box')"
   ]
  },
  {
   "cell_type": "code",
   "execution_count": 95,
   "id": "97b17e64",
   "metadata": {},
   "outputs": [
    {
     "name": "stdout",
     "output_type": "stream",
     "text": [
      "446\n"
     ]
    },
    {
     "data": {
      "text/html": [
       "<div>\n",
       "<style scoped>\n",
       "    .dataframe tbody tr th:only-of-type {\n",
       "        vertical-align: middle;\n",
       "    }\n",
       "\n",
       "    .dataframe tbody tr th {\n",
       "        vertical-align: top;\n",
       "    }\n",
       "\n",
       "    .dataframe thead th {\n",
       "        text-align: right;\n",
       "    }\n",
       "</style>\n",
       "<table border=\"1\" class=\"dataframe\">\n",
       "  <thead>\n",
       "    <tr style=\"text-align: right;\">\n",
       "      <th></th>\n",
       "      <th>Survived</th>\n",
       "      <th>Pclass</th>\n",
       "      <th>Name</th>\n",
       "      <th>Sex</th>\n",
       "      <th>Age</th>\n",
       "      <th>SibSp</th>\n",
       "      <th>Parch</th>\n",
       "      <th>Ticket</th>\n",
       "      <th>Fare</th>\n",
       "      <th>Cabin</th>\n",
       "      <th>Embarked</th>\n",
       "    </tr>\n",
       "    <tr>\n",
       "      <th>PassengerId</th>\n",
       "      <th></th>\n",
       "      <th></th>\n",
       "      <th></th>\n",
       "      <th></th>\n",
       "      <th></th>\n",
       "      <th></th>\n",
       "      <th></th>\n",
       "      <th></th>\n",
       "      <th></th>\n",
       "      <th></th>\n",
       "      <th></th>\n",
       "    </tr>\n",
       "  </thead>\n",
       "  <tbody>\n",
       "    <tr>\n",
       "      <th>155</th>\n",
       "      <td>0</td>\n",
       "      <td>3</td>\n",
       "      <td>Bradley, Darren</td>\n",
       "      <td>male</td>\n",
       "      <td>21.0</td>\n",
       "      <td>1</td>\n",
       "      <td>0</td>\n",
       "      <td>313459</td>\n",
       "      <td>137.11</td>\n",
       "      <td>NaN</td>\n",
       "      <td>S</td>\n",
       "    </tr>\n",
       "    <tr>\n",
       "      <th>600</th>\n",
       "      <td>0</td>\n",
       "      <td>3</td>\n",
       "      <td>Montero, Melissa</td>\n",
       "      <td>female</td>\n",
       "      <td>23.0</td>\n",
       "      <td>0</td>\n",
       "      <td>1</td>\n",
       "      <td>9442</td>\n",
       "      <td>408.47</td>\n",
       "      <td>NaN</td>\n",
       "      <td>S</td>\n",
       "    </tr>\n",
       "    <tr>\n",
       "      <th>849</th>\n",
       "      <td>0</td>\n",
       "      <td>3</td>\n",
       "      <td>Webb, Timothy</td>\n",
       "      <td>male</td>\n",
       "      <td>51.0</td>\n",
       "      <td>1</td>\n",
       "      <td>4</td>\n",
       "      <td>13295</td>\n",
       "      <td>199.53</td>\n",
       "      <td>NaN</td>\n",
       "      <td>S</td>\n",
       "    </tr>\n",
       "    <tr>\n",
       "      <th>1269</th>\n",
       "      <td>0</td>\n",
       "      <td>3</td>\n",
       "      <td>Murray, Elizabeth</td>\n",
       "      <td>female</td>\n",
       "      <td>46.0</td>\n",
       "      <td>2</td>\n",
       "      <td>2</td>\n",
       "      <td>393632</td>\n",
       "      <td>191.22</td>\n",
       "      <td>A9773</td>\n",
       "      <td>S</td>\n",
       "    </tr>\n",
       "    <tr>\n",
       "      <th>2020</th>\n",
       "      <td>0</td>\n",
       "      <td>3</td>\n",
       "      <td>Barnes, Peter</td>\n",
       "      <td>male</td>\n",
       "      <td>47.0</td>\n",
       "      <td>0</td>\n",
       "      <td>0</td>\n",
       "      <td>28703</td>\n",
       "      <td>163.44</td>\n",
       "      <td>NaN</td>\n",
       "      <td>S</td>\n",
       "    </tr>\n",
       "    <tr>\n",
       "      <th>2177</th>\n",
       "      <td>1</td>\n",
       "      <td>3</td>\n",
       "      <td>Wallace, Stanley</td>\n",
       "      <td>male</td>\n",
       "      <td>36.0</td>\n",
       "      <td>0</td>\n",
       "      <td>0</td>\n",
       "      <td>10852</td>\n",
       "      <td>258.36</td>\n",
       "      <td>C11952</td>\n",
       "      <td>C</td>\n",
       "    </tr>\n",
       "    <tr>\n",
       "      <th>2297</th>\n",
       "      <td>0</td>\n",
       "      <td>3</td>\n",
       "      <td>Calderon, David</td>\n",
       "      <td>male</td>\n",
       "      <td>50.0</td>\n",
       "      <td>0</td>\n",
       "      <td>0</td>\n",
       "      <td>26370</td>\n",
       "      <td>282.78</td>\n",
       "      <td>NaN</td>\n",
       "      <td>S</td>\n",
       "    </tr>\n",
       "    <tr>\n",
       "      <th>2316</th>\n",
       "      <td>1</td>\n",
       "      <td>3</td>\n",
       "      <td>Alonzo, Irene</td>\n",
       "      <td>female</td>\n",
       "      <td>55.0</td>\n",
       "      <td>2</td>\n",
       "      <td>5</td>\n",
       "      <td>PP 437094</td>\n",
       "      <td>281.13</td>\n",
       "      <td>NaN</td>\n",
       "      <td>C</td>\n",
       "    </tr>\n",
       "    <tr>\n",
       "      <th>3469</th>\n",
       "      <td>1</td>\n",
       "      <td>3</td>\n",
       "      <td>Lamb, Hector</td>\n",
       "      <td>male</td>\n",
       "      <td>57.0</td>\n",
       "      <td>0</td>\n",
       "      <td>0</td>\n",
       "      <td>19504</td>\n",
       "      <td>244.15</td>\n",
       "      <td>NaN</td>\n",
       "      <td>S</td>\n",
       "    </tr>\n",
       "    <tr>\n",
       "      <th>3801</th>\n",
       "      <td>0</td>\n",
       "      <td>3</td>\n",
       "      <td>Smith, Hector</td>\n",
       "      <td>male</td>\n",
       "      <td>53.0</td>\n",
       "      <td>0</td>\n",
       "      <td>0</td>\n",
       "      <td>9635</td>\n",
       "      <td>102.69</td>\n",
       "      <td>NaN</td>\n",
       "      <td>S</td>\n",
       "    </tr>\n",
       "  </tbody>\n",
       "</table>\n",
       "</div>"
      ],
      "text/plain": [
       "             Survived  Pclass               Name     Sex   Age  SibSp  Parch  \\\n",
       "PassengerId                                                                    \n",
       "155                 0       3    Bradley, Darren    male  21.0      1      0   \n",
       "600                 0       3   Montero, Melissa  female  23.0      0      1   \n",
       "849                 0       3      Webb, Timothy    male  51.0      1      4   \n",
       "1269                0       3  Murray, Elizabeth  female  46.0      2      2   \n",
       "2020                0       3      Barnes, Peter    male  47.0      0      0   \n",
       "2177                1       3   Wallace, Stanley    male  36.0      0      0   \n",
       "2297                0       3    Calderon, David    male  50.0      0      0   \n",
       "2316                1       3      Alonzo, Irene  female  55.0      2      5   \n",
       "3469                1       3       Lamb, Hector    male  57.0      0      0   \n",
       "3801                0       3      Smith, Hector    male  53.0      0      0   \n",
       "\n",
       "                Ticket    Fare   Cabin Embarked  \n",
       "PassengerId                                      \n",
       "155             313459  137.11     NaN        S  \n",
       "600               9442  408.47     NaN        S  \n",
       "849              13295  199.53     NaN        S  \n",
       "1269            393632  191.22   A9773        S  \n",
       "2020             28703  163.44     NaN        S  \n",
       "2177             10852  258.36  C11952        C  \n",
       "2297             26370  282.78     NaN        S  \n",
       "2316         PP 437094  281.13     NaN        C  \n",
       "3469             19504  244.15     NaN        S  \n",
       "3801              9635  102.69     NaN        S  "
      ]
     },
     "execution_count": 95,
     "metadata": {},
     "output_type": "execute_result"
    }
   ],
   "source": [
    "# что-то тут не так с ценами\n",
    "big_fare = have_ticket[(have_ticket['Fare']>100) & (have_ticket['Pclass']==3)]\n",
    "print(big_fare.shape[0])\n",
    "big_fare.head(10)"
   ]
  },
  {
   "cell_type": "markdown",
   "id": "c7db9805",
   "metadata": {},
   "source": [
    "Я бы выбросил этот столбец из анализа, данные тут не внушают доверия. Ну или отфильтровать как-то."
   ]
  },
  {
   "cell_type": "markdown",
   "id": "6edd0626",
   "metadata": {},
   "source": [
    "## Cabin\n",
    "\n",
    "Номер каюты"
   ]
  },
  {
   "cell_type": "code",
   "execution_count": 85,
   "id": "af57fde5",
   "metadata": {},
   "outputs": [
    {
     "data": {
      "text/plain": [
       "67866"
      ]
     },
     "execution_count": 85,
     "metadata": {},
     "output_type": "execute_result"
    }
   ],
   "source": [
    "# нет данных?\n",
    "no_cabin = df[df['Cabin'].isna()]\n",
    "have_cabin = df[df['Cabin'].notna()]\n",
    "no_cabin.shape[0]"
   ]
  },
  {
   "cell_type": "code",
   "execution_count": 93,
   "id": "2f4fa359",
   "metadata": {},
   "outputs": [
    {
     "data": {
      "text/plain": [
       "<seaborn.axisgrid.FacetGrid at 0x2458669ea10>"
      ]
     },
     "execution_count": 93,
     "metadata": {},
     "output_type": "execute_result"
    },
    {
     "data": {
      "image/png": "[encoded data removed]",
      "text/plain": [
       "<Figure size 790.5x360 with 2 Axes>"
      ]
     },
     "metadata": {
      "needs_background": "light"
     },
     "output_type": "display_data"
    }
   ],
   "source": [
    "# Большинство без номера каюты, почему же так?\n",
    "# Влияет ли это?\n",
    "df.loc[df['Cabin'].notna(),'have_cabin'] = 1\n",
    "df.loc[df['Cabin'].isna(),'have_cabin'] = 0\n",
    "sns.catplot(x=\"Pclass\", y=\"Survived\", hue=\"Sex\", col='have_cabin', data=df, kind='bar')"
   ]
  },
  {
   "cell_type": "markdown",
   "id": "4db05024",
   "metadata": {},
   "source": [
    "Очень сильно, почему же?"
   ]
  },
  {
   "cell_type": "code",
   "execution_count": 97,
   "id": "e8142534",
   "metadata": {},
   "outputs": [
    {
     "data": {
      "text/plain": [
       "<seaborn.axisgrid.FacetGrid at 0x24586a96ce0>"
      ]
     },
     "execution_count": 97,
     "metadata": {},
     "output_type": "execute_result"
    },
    {
     "data": {
      "image/png": "[encoded data removed]",
      "text/plain": [
       "<Figure size 790.5x360 with 2 Axes>"
      ]
     },
     "metadata": {
      "needs_background": "light"
     },
     "output_type": "display_data"
    }
   ],
   "source": [
    "# Кто ездил в каюте?\n",
    "sns.displot(data=df, x='Age', hue='Sex', col='have_cabin', kind=\"kde\")"
   ]
  },
  {
   "cell_type": "markdown",
   "id": "834f054a",
   "metadata": {},
   "source": [
    "Очевидно совсем другие люди"
   ]
  },
  {
   "cell_type": "markdown",
   "id": "034945c8",
   "metadata": {},
   "source": [
    "# Summary"
   ]
  },
  {
   "cell_type": "markdown",
   "id": "86a91ff3",
   "metadata": {},
   "source": [
    "На первый поверхностный взгляд на выживание влияет пол, возраст, класс билета, наличие каюты и близкие.\n",
    "Данные по цене на билет требуют либо фильтрации, либо не стоит их учитывать вообще т.к. много ошибок.\n"
   ]
  }
 ],
 "metadata": {
  "kernelspec": {
   "display_name": "Python 3 (ipykernel)",
   "language": "python",
   "name": "python3"
  },
  "language_info": {
   "codemirror_mode": {
    "name": "ipython",
    "version": 3
   },
   "file_extension": ".py",
   "mimetype": "text/x-python",
   "name": "python",
   "nbconvert_exporter": "python",
   "pygments_lexer": "ipython3",
   "version": "3.10.2"
  },
  "toc": {
   "base_numbering": 1,
   "nav_menu": {},
   "number_sections": true,
   "sideBar": true,
   "skip_h1_title": false,
   "title_cell": "Table of Contents",
   "title_sidebar": "Contents",
   "toc_cell": false,
   "toc_position": {},
   "toc_section_display": true,
   "toc_window_display": false
  }
 },
 "nbformat": 4,
 "nbformat_minor": 5
}
